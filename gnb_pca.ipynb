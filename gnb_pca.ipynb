{
 "cells": [
  {
   "cell_type": "markdown",
   "id": "72b8d0ee-52b0-4c01-b8fa-d5719afa5b56",
   "metadata": {
    "tags": []
   },
   "source": [
    "如果要运行的话，遇到错误时，请按照一定的顺序运行(不是按照程序编写的顺序)\n",
    "\n",
    "在对图片进行PCA处理时，遇到警告的话就忽略它，不影响运行的，警告的原因是有些图片的数据矩阵为全0的"
   ]
  },
  {
   "cell_type": "code",
   "execution_count": 1,
   "id": "a034b0f4-3ff9-43f5-b327-0428ee573292",
   "metadata": {},
   "outputs": [],
   "source": [
    "import numpy as np\n",
    "import matplotlib.pyplot as plt\n",
    "import cv2\n",
    "import os\n",
    "from sklearn.model_selection import cross_val_score, cross_val_predict\n",
    "from sklearn.metrics import accuracy_score\n",
    "from sklearn.preprocessing import StandardScaler\n",
    "from sklearn.decomposition import PCA\n",
    "from sklearn.naive_bayes import GaussianNB, MultinomialNB\n",
    "from sklearn.metrics import confusion_matrix"
   ]
  },
  {
   "cell_type": "code",
   "execution_count": 2,
   "id": "df43c5d6-d593-4c2d-8899-fc583a3a9640",
   "metadata": {
    "tags": []
   },
   "outputs": [],
   "source": [
    "# 进行图片的分割\n",
    "def splitSenses(img):\n",
    "    img_eyes = img[50:65, 45:95]\n",
    "    img_leye = img[50:65, 45:65]\n",
    "    img_reye = img[50:65, 75:95]\n",
    "    img_nose = img[65:80, 60:80]\n",
    "    img_mouth = img[82:98, 55:85]\n",
    "    img_face = img[50:100, 45:95]\n",
    "    \n",
    "    # 0：原图 1：眼睛 2：左眼 3：右眼 4：鼻子 5：嘴巴 6:全脸\n",
    "    img_ = [img, img_eyes, img_leye, img_reye, img_nose, img_mouth, img_face]\n",
    "    return img_"
   ]
  },
  {
   "cell_type": "code",
   "execution_count": 3,
   "id": "2adf9f17-a43c-4780-b33e-cdca4d49c522",
   "metadata": {
    "tags": []
   },
   "outputs": [],
   "source": [
    "# 获取图片\n",
    "def getImge(file_path, id_):\n",
    "    img_path = \"/rawdata/\" + str(id_ + 1223)\n",
    "    f = open(file_path + img_path, \"rb\")\n",
    "    img = np.fromfile(f, dtype=np.ubyte)\n",
    "    \n",
    "    if img.size == 128 * 128:\n",
    "        img = img.reshape([128, 128])\n",
    "        \n",
    "        # 标准化处理\n",
    "        sc = StandardScaler()\n",
    "        sc.fit(img)\n",
    "        img = sc.transform(img)      \n",
    "        \n",
    "        img = splitSenses(img)\n",
    "\n",
    "    else:\n",
    "        if img.size == 512 * 512:\n",
    "            img = img.reshape([512, 512])\n",
    "            return 0\n",
    "        else:\n",
    "            return 0\n",
    "    \n",
    "    return img"
   ]
  },
  {
   "cell_type": "code",
   "execution_count": 4,
   "id": "92feec55-ae1a-4088-93dc-c460aa83fbcc",
   "metadata": {
    "tags": []
   },
   "outputs": [],
   "source": [
    "# 读取标签\n",
    "def loadData(file_path):\n",
    "    label_path = \"/label.txt\"\n",
    "    f = open(file_path + label_path, \"r\")\n",
    "    label = f.read().splitlines()\n",
    "    data = []\n",
    "    for i in range(len(label)):\n",
    "        temp = label[i].split()\n",
    "        # print(temp)\n",
    "        if len(temp) > 10:\n",
    "            sex = temp[temp.index(\"(_sex\") + 1]\n",
    "            sex = sex.strip(\")\")\n",
    "            age = temp[temp.index(\"(_age\") + 1]\n",
    "            age = age.rstrip(\")\")\n",
    "            race = temp[temp.index(\"(_race\") + 1]\n",
    "            race = race.rstrip(\")\")\n",
    "            face = temp[temp.index(\"(_face\") + 1]\n",
    "            face = face.rstrip(\")\")\n",
    "            prop = temp[(temp.index(\"(_prop\") + 1):]\n",
    "            if len(prop) > 1:\n",
    "                prop[0] = prop[0][2:]\n",
    "                prop.pop(-1)\n",
    "            else:\n",
    "                prop = 0\n",
    "            img = getImge(file_path, i)\n",
    "            data.append([sex, age, race, face, prop, img])\n",
    "        else:\n",
    "            data.append(0)\n",
    "            # print(\"miss:\", i)\n",
    "    return data"
   ]
  },
  {
   "cell_type": "code",
   "execution_count": 5,
   "id": "d3dddde7-2b3a-4297-9762-624ad86b1501",
   "metadata": {
    "tags": []
   },
   "outputs": [],
   "source": [
    "# 数据\n",
    "# set_printoptions: 当数组数目过大时，设置显示几个数字，其余用省略号\n",
    "np.set_printoptions(threshold=np.inf)\n",
    "\n",
    "# 存储各种图像\n",
    "X = []\n",
    "X_pca = []\n",
    "Y = [] #0:smiling/funny 1:serious\n",
    "X_eyes = []\n",
    "X_le = []\n",
    "X_re = []\n",
    "X_nose = []\n",
    "X_mouth = []\n",
    "X_face = []\n",
    "X_eyes_pca = []\n",
    "X_le_pca = []\n",
    "X_re_pca = []\n",
    "X_nose_pca = []\n",
    "X_mouth_pca = []\n",
    "X_face_pca = []\n",
    "\n",
    "# 获取图像数据\n",
    "data = loadData(os.getcwd())\n",
    "\n",
    "# 统计各表情的个数\n",
    "funny = 0\n",
    "smiling = 0\n",
    "serious = 0\n",
    "other = 0"
   ]
  },
  {
   "cell_type": "code",
   "execution_count": 6,
   "id": "1702c95f-e7bb-4923-be52-028e0c6c6809",
   "metadata": {
    "tags": []
   },
   "outputs": [
    {
     "name": "stdout",
     "output_type": "stream",
     "text": [
      "funny 0.025214321734745335\n",
      "smiling 0.4737771053958649\n",
      "serious 0.5010085728693898\n",
      "other 0.0\n"
     ]
    }
   ],
   "source": [
    "# 进行表情统计\n",
    "for i in range(len(data)):\n",
    "    temp = data[i]\n",
    "    if temp != 0:\n",
    "        if temp[5] != 0:\n",
    "            X.append(temp[5][0])\n",
    "            X_eyes.append(temp[5][1])\n",
    "            X_le.append(temp[5][2])\n",
    "            X_re.append(temp[5][3])\n",
    "            X_nose.append(temp[5][4])\n",
    "            X_mouth.append(temp[5][5])\n",
    "            X_face.append(temp[5][6])\n",
    "            \n",
    "\n",
    "            if temp[3] == \"funny\":\n",
    "                Y.append(0)\n",
    "                funny += 1\n",
    "            elif temp[3] == \"smiling\":\n",
    "                Y.append(0)\n",
    "                smiling += 1\n",
    "            elif temp[3] == \"serious\":\n",
    "                Y.append(1)\n",
    "                serious += 1\n",
    "            else:\n",
    "                Y.append(3)\n",
    "                other += 1\n",
    "print(\"funny\", funny / len(Y))\n",
    "print(\"smiling\", smiling / len(Y))\n",
    "print(\"serious\", serious / len(Y))\n",
    "print(\"other\", other / len(Y))\n",
    "\n",
    "# funny 0.025214321734745335\n",
    "# smiling 0.4737771053958649\n",
    "# serious 0.5010085728693898\n",
    "# other 0.0"
   ]
  },
  {
   "cell_type": "code",
   "execution_count": 7,
   "id": "b4da894f-0a38-4561-ae39-6536f5026e02",
   "metadata": {
    "tags": []
   },
   "outputs": [],
   "source": [
    "# 进行维数转换\n",
    "x_size = len(X)\n",
    "X = np.array(X)\n",
    "X = X.reshape(x_size, 128 * 128)\n",
    "\n",
    "x_eyes_size = len(X_eyes)\n",
    "X_eyes = np.array(X_eyes)\n",
    "X_eyes = X_eyes.reshape(x_eyes_size, 15 * 50)\n",
    "\n",
    "x_le_size = len(X_le)\n",
    "X_le = np.array(X_le)\n",
    "X_le = X_le.reshape(x_le_size, 15 * 20)\n",
    "\n",
    "x_re_size = len(X_re)\n",
    "X_re = np.array(X_re)\n",
    "X_re = X_re.reshape(x_re_size, 15 * 20)\n",
    "\n",
    "x_nose_size = len(X_nose)\n",
    "X_nose = np.array(X_nose)\n",
    "X_nose = X_nose.reshape(x_nose_size, 15 * 20)\n",
    "\n",
    "x_mouth_size = len(X_mouth)\n",
    "X_mouth = np.array(X_mouth)\n",
    "X_mouth = X_mouth.reshape(x_mouth_size, 16 * 30)\n",
    "\n",
    "x_face_size = len(X_face)\n",
    "X_face = np.array(X_face)\n",
    "X_face = X_face.reshape(x_face_size, 50 * 50)"
   ]
  },
  {
   "cell_type": "code",
   "execution_count": null,
   "id": "4dbf1474-f773-42c7-bf27-57f6c19a3212",
   "metadata": {
    "jupyter": {
     "source_hidden": true
    },
    "tags": []
   },
   "outputs": [],
   "source": [
    "# # 多项式贝叶斯\n",
    "# clf = MultinomialNB()\n",
    "\n",
    "# Y_pred = cross_val_predict(clf, X, Y, cv=5)\n",
    "# print(\"face_score:\", accuracy_score(Y, Y_pred))\n",
    "\n",
    "# Y_mouth_pred = cross_val_predict(clf, X_mouth, Y, cv=5)\n",
    "# print(\"mouth_score:\", accuracy_score(Y, Y_mouth_pred))\n",
    "\n",
    "# Y_le_pred = cross_val_predict(clf, X_le, Y, cv=5)\n",
    "# print(\"le_score:\", accuracy_score(Y, Y_le_pred))\n",
    "\n",
    "# Y_re_pred = cross_val_predict(clf, X_re, Y, cv=5)\n",
    "# print(\"re_score:\", accuracy_score(Y, Y_re_pred))\n",
    "\n",
    "# Y_eyes_pred = cross_val_predict(clf, X_eyes, Y, cv=5)\n",
    "# print(\"eyes_score:\", accuracy_score(Y, Y_eyes_pred))"
   ]
  },
  {
   "cell_type": "code",
   "execution_count": null,
   "id": "21378560-0b84-455f-97cb-dad432e13fb7",
   "metadata": {
    "tags": []
   },
   "outputs": [],
   "source": [
    "# 精确率\n",
    "Y_pred = cross_val_predict(gnb, X, Y, cv=5)\n",
    "print(\"image_score:\", accuracy_score(Y, Y_pred))\n",
    "\n",
    "Y_eyes_pred = cross_val_predict(gnb, X_eyes, Y, cv=5)\n",
    "print(\"eyes_score:\", accuracy_score(Y, Y_eyes_pred))\n",
    "\n",
    "Y_le_pred = cross_val_predict(gnb, X_le, Y, cv=5)\n",
    "print(\"le_score:\", accuracy_score(Y, Y_le_pred))\n",
    "\n",
    "Y_re_pred = cross_val_predict(gnb, X_re, Y, cv=5)\n",
    "print(\"re_score:\", accuracy_score(Y, Y_re_pred))\n",
    "\n",
    "Y_nose_pred = cross_val_predict(gnb, X_nose, Y, cv=5)\n",
    "print(\"nose_score:\", accuracy_score(Y, Y_nose_pred))\n",
    "\n",
    "Y_mouth_pred = cross_val_predict(gnb, X_mouth, Y, cv=5)\n",
    "print(\"mouth_score:\", accuracy_score(Y, Y_mouth_pred))\n",
    "\n",
    "Y_face_pred = cross_val_predict(gnb, X_face, Y, cv=5)\n",
    "print(\"face_score:\", accuracy_score(Y, Y_face_pred))\n",
    "\n",
    "# image_score: 0.5219364599092284\n",
    "# eyes_score: 0.5103378719112456\n",
    "# le_score: 0.5247100353000504\n",
    "# re_score: 0.5274836106908725\n",
    "# nose_score: 0.5597579425113465\n",
    "# mouth_score: 0.705748865355522\n",
    "# face_score: 0.6116994452849218"
   ]
  },
  {
   "cell_type": "code",
   "execution_count": null,
   "id": "d721f7bd-0849-4023-9aed-fb32bcfce3be",
   "metadata": {
    "tags": []
   },
   "outputs": [],
   "source": [
    "# 混淆矩阵\n",
    "from sklearn.naive_bayes import GaussianNB\n",
    "from sklearn.metrics import confusion_matrix\n",
    "\n",
    "gnb = GaussianNB()\n",
    "\n",
    "Y_pred = cross_val_predict(gnb, X, Y, cv=5)\n",
    "image_cm = confusion_matrix(Y, Y_pred)\n",
    "print(\"image_confusion_matrix:\\n\", image_cm)\n",
    "\n",
    "Y_eyes_pred = cross_val_predict(gnb, X_eyes, Y, cv=5)\n",
    "eyes_cm = confusion_matrix(Y, Y_eyes_pred)\n",
    "print(\"eyes_confusion_matrix:\\n\", eyes_cm)\n",
    "\n",
    "Y_le_pred = cross_val_predict(gnb, X_le, Y, cv=5)\n",
    "le_cm = confusion_matrix(Y, Y_le_pred)\n",
    "print(\"le_confusion_matrix:\\n\", le_cm)\n",
    "\n",
    "Y_re_pred = cross_val_predict(gnb, X_re, Y, cv=5)\n",
    "re_cm = confusion_matrix(Y, Y_re_pred)\n",
    "print(\"re_confusion_matrix:\\n\", re_cm)\n",
    "\n",
    "Y_nose_pred = cross_val_predict(gnb, X_nose, Y, cv=5)\n",
    "nose_cm = confusion_matrix(Y, Y_nose_pred)\n",
    "print(\"nose_confusion_matrix:\\n\", nose_cm)\n",
    "\n",
    "Y_mouth_pred = cross_val_predict(gnb, X_mouth, Y, cv=5)\n",
    "mouth_cm = confusion_matrix(Y, Y_mouth_pred)\n",
    "print(\"mouth_confusion_matrix:\\n\", mouth_cm)\n",
    "\n",
    "Y_face_pred = cross_val_predict(gnb, X_face, Y, cv=5)\n",
    "face_cm = confusion_matrix(Y, Y_face_pred)\n",
    "print(\"face_confusion_matrix:\\n\", face_cm)\n",
    "\n",
    "# image_confusion_matrix:\n",
    " # [[ 381 1598]\n",
    " # [ 298 1689]]\n",
    "\n",
    "# eyes_confusion_matrix:\n",
    "#  [[1170  809]\n",
    "#  [1131  856]]\n",
    "\n",
    "# le_confusion_matrix:\n",
    "#  [[1253  726]\n",
    "#  [1150  837]]\n",
    "\n",
    "# re_confusion_matrix:\n",
    "#  [[1001  978]\n",
    "#  [ 898 1089]]\n",
    "\n",
    "# nose_confusion_matrix:\n",
    "#  [[1217  762]\n",
    "#  [ 985 1002]]\n",
    "\n",
    "# mouth_confusion_matrix:\n",
    "#  [[1387  592]\n",
    "#  [ 576 1411]]\n",
    "\n",
    "# face_confusion_matrix:\n",
    "#  [[1387  592]\n",
    "#  [ 953 1034]]"
   ]
  },
  {
   "cell_type": "code",
   "execution_count": null,
   "id": "ebb08cd5-6974-4dd2-bb0c-fb16e336912a",
   "metadata": {
    "tags": []
   },
   "outputs": [],
   "source": [
    "# # F1、Percison、Recall、Specifity\n",
    "# from sklearn.naive_bayes import GaussianNB\n",
    "# gnb = GaussianNB()\n",
    "\n",
    "image_f1 = cross_val_score(gnb, X, Y, cv=5, scoring='f1')\n",
    "print(\"image_f1: %f\" % image_f1.mean())\n",
    "image_precision = cross_val_score(gnb, X, Y, cv=5, scoring='precision')\n",
    "print(\"image_precision: %f\" % image_precision.mean())\n",
    "image_recall = cross_val_score(gnb, X, Y, cv=5, scoring='recall')\n",
    "print(\"image_recall: %f\" % image_recall.mean())\n",
    "image_specifity = image_cm[1][1]/(image_cm[1][1]+image_cm[0][1])\n",
    "print(\"image_specifity: %f\" % image_specifity)\n",
    "\n",
    "eyes_f1 = cross_val_score(gnb, X_eyes, Y, cv=5, scoring='f1')\n",
    "print(\"eyes_f1: %f\" % eyes_f1.mean())\n",
    "eyes_precision = cross_val_score(gnb, X_eyes, Y, cv=5, scoring='precision')\n",
    "print(\"eyes_precision: %f\" % eyes_precision.mean())\n",
    "eyes_recall = cross_val_score(gnb, X_eyes, Y, cv=5, scoring='recall')\n",
    "print(\"eyes_recall: %f\" % eyes_recall.mean())\n",
    "eyes_specifity = eyes_cm[1][1]/(eyes_cm[1][1]+eyes_cm[0][1])\n",
    "print(\"eyes_specifity: %f\" % eyes_specifity)\n",
    "\n",
    "le_f1 = cross_val_score(gnb, X_le, Y, cv=5, scoring='f1')\n",
    "print(\"le_f1: %f\" % le_f1.mean())\n",
    "le_precision = cross_val_score(gnb, X_le, Y, cv=5, scoring='precision')\n",
    "print(\"le_precision: %f\" % le_precision.mean())\n",
    "le_recall = cross_val_score(gnb, X_le, Y, cv=5, scoring='recall')\n",
    "print(\"le_recall: %f\" % le_recall.mean())\n",
    "le_specifity = le_cm[1][1]/(le_cm[1][1]+le_cm[0][1])\n",
    "print(\"le_specifity: %f\" % le_specifity)\n",
    "\n",
    "re_f1 = cross_val_score(gnb, X_re, Y, cv=5, scoring='f1')\n",
    "print(\"re_f1: %f\" % re_f1.mean())\n",
    "re_precision = cross_val_score(gnb, X_re, Y, cv=5, scoring='precision')\n",
    "print(\"re_precision: %f\" % re_precision.mean())\n",
    "re_recall = cross_val_score(gnb, X_re, Y, cv=5, scoring='recall')\n",
    "print(\"re_recall: %f\" % re_recall.mean())\n",
    "re_specifity = re_cm[1][1]/(re_cm[1][1]+re_cm[0][1])\n",
    "print(\"re_specifity: %f\" % re_specifity)\n",
    "\n",
    "nose_f1 = cross_val_score(gnb, X_nose, Y, cv=5, scoring='f1')\n",
    "print(\"nose_f1: %f\" % nose_f1.mean())\n",
    "nose_precision = cross_val_score(gnb, X_nose, Y, cv=5, scoring='precision')\n",
    "print(\"nose_precision: %f\" % nose_precision.mean())\n",
    "nose_recall = cross_val_score(gnb, X_nose, Y, cv=5, scoring='recall')\n",
    "print(\"nose_recall: %f\" % nose_recall.mean())\n",
    "nose_specifity = nose_cm[1][1]/(nose_cm[1][1]+nose_cm[0][1])\n",
    "print(\"nose_specifity: %f\" % nose_specifity)\n",
    "\n",
    "mouth_f1 = cross_val_score(gnb, X_mouth, Y, cv=5, scoring='f1')\n",
    "print(\"mouth_f1: %f\" % mouth_f1.mean())\n",
    "mouth_precision = cross_val_score(gnb, X_mouth, Y, cv=5, scoring='precision')\n",
    "print(\"mouth_precision: %f\" % mouth_precision.mean())\n",
    "mouth_recall = cross_val_score(gnb, X_mouth, Y, cv=5, scoring='recall')\n",
    "print(\"mouth_recall: %f\" % mouth_recall.mean())\n",
    "mouth_specifity = mouth_cm[1][1]/(mouth_cm[1][1]+mouth_cm[0][1])\n",
    "print(\"mouth_specifity: %f\" % mouth_specifity)\n",
    "\n",
    "face_f1 = cross_val_score(gnb, X_face, Y, cv=5, scoring='f1')\n",
    "print(\"face_f1: %f\" % face_f1.mean())\n",
    "face_precision = cross_val_score(gnb, X_face, Y, cv=5, scoring='precision')\n",
    "print(\"face_precision: %f\" % face_precision.mean())\n",
    "face_recall = cross_val_score(gnb, X_face, Y, cv=5, scoring='recall')\n",
    "print(\"face_recall: %f\" % face_recall.mean())\n",
    "face_specifity = face_cm[1][1]/(face_cm[1][1]+face_cm[0][1])\n",
    "print(\"face_specifity: %f\" % face_specifity)\n",
    "\n",
    "# image_f1: 0.637978\n",
    "# image_precision: 0.515633\n",
    "# image_recall: 0.850065\n",
    "# image_specifity: 0.513842\n",
    "\n",
    "# eyes_f1: 0.463809\n",
    "# eyes_precision: 0.517524\n",
    "# eyes_recall: 0.430801\n",
    "# eyes_specifity: 0.514114\n",
    "\n",
    "# le_f1: 0.466510\n",
    "# le_precision: 0.549633\n",
    "# le_recall: 0.421285\n",
    "# le_specifity: 0.535509\n",
    "\n",
    "# re_f1: 0.535003\n",
    "# re_precision: 0.532783\n",
    "# re_recall: 0.548098\n",
    "# re_specifity: 0.526851\n",
    "\n",
    "# nose_f1: 0.524130\n",
    "# nose_precision: 0.569902\n",
    "# nose_recall: 0.504275\n",
    "# nose_specifity: 0.568027\n",
    "\n",
    "# mouth_f1: 0.704764\n",
    "# mouth_precision: 0.708056\n",
    "# mouth_recall: 0.710131\n",
    "# mouth_specifity: 0.704443\n",
    "\n",
    "# face_f1: 0.568169\n",
    "# face_precision: 0.638803\n",
    "# face_recall: 0.520331\n",
    "# face_specifity: 0.635916"
   ]
  },
  {
   "cell_type": "code",
   "execution_count": null,
   "id": "c468998b-2d36-4559-9dc9-1fdb12499b1f",
   "metadata": {
    "tags": []
   },
   "outputs": [],
   "source": [
    "# 准确率的平均值和方差\n",
    "gnb = GaussianNB()\n",
    "scores = cross_val_score(gnb, X, Y, cv=5)\n",
    "print(\"scores Accuracy: %0.5f (+/- %0.5f)\" % (scores.mean(), scores.std() * 2))\n",
    "\n",
    "eyes_scores = cross_val_score(gnb, X_eyes, Y, cv=5)\n",
    "print(\"eyes_scores Accuracy: %0.5f (+/- %0.5f)\" % (eyes_scores.mean(), eyes_scores.std() * 2))\n",
    "\n",
    "le_scores = cross_val_score(gnb, X_le, Y, cv=5)\n",
    "print(\"le_scores Accuracy: %0.5f (+/- %0.5f)\" % (le_scores.mean(), le_scores.std() * 2))\n",
    "\n",
    "re_scores = cross_val_score(gnb, X_re, Y, cv=5)\n",
    "print(\"re_scores Accuracy: %0.5f (+/- %0.5f)\" % (re_scores.mean(), re_scores.std() * 2))\n",
    "\n",
    "nose_scores = cross_val_score(gnb, X_nose, Y, cv=5)\n",
    "print(\"nose_scores Accuracy: %0.5f (+/- %0.5f)\" % (nose_scores.mean(), nose_scores.std() * 2))\n",
    "\n",
    "mouth_scores = cross_val_score(gnb, X_mouth, Y, cv=5)\n",
    "print(\"mouth_scores Accuracy: %0.5f (+/- %0.5f)\" % (mouth_scores.mean(), mouth_scores.std() * 2))\n",
    "\n",
    "face_scores = cross_val_score(gnb, X_face, Y, cv=5)\n",
    "print(\"face_scores Accuracy: %0.5f (+/- %0.5f)\" % (face_scores.mean(), face_scores.std() * 2))\n",
    "\n",
    "# face_score: 0.5219364599092284\n",
    "# mouth_score: 0.7054967221381745\n",
    "# le_score: 0.5269793242561776\n",
    "# re_score: 0.5269793242561776\n",
    "# eyes_score: 0.5108421583459405\n",
    "# nose_score: 0.559505799293999\n",
    "# face_score: 0.6104387291981845\n",
    "\n",
    "# scores Accuracy: 0.52194 (+/- 0.05568)\n",
    "# eyes_scores Accuracy: 0.51083 (+/- 0.06022)\n",
    "# le_scores Accuracy: 0.52696 (+/- 0.08605)\n",
    "# re_scores Accuracy: 0.52697 (+/- 0.06878)\n",
    "# nose_scores Accuracy: 0.55951 (+/- 0.03373)\n",
    "# mouth_scores Accuracy: 0.70550 (+/- 0.05261)\n",
    "# face_scores Accuracy: 0.61044 (+/- 0.06455)"
   ]
  },
  {
   "cell_type": "code",
   "execution_count": null,
   "id": "00c750f6-4b32-4743-b5d5-3e1f4999a1ff",
   "metadata": {
    "tags": []
   },
   "outputs": [],
   "source": [
    "#AUC\n",
    "from sklearn.naive_bayes import GaussianNB\n",
    "gnb = GaussianNB()\n",
    "\n",
    "scores = cross_val_score(gnb, X, Y, cv=5, scoring='roc_auc')\n",
    "print(\"scores roc_auc: %f\" % scores.mean())\n",
    "\n",
    "eyes_scores = cross_val_score(gnb, X_eyes, Y, cv=5, scoring='roc_auc')\n",
    "print(\"eyes_scores roc_auc: %f\" % eyes_scores.mean())\n",
    "\n",
    "le_scores = cross_val_score(gnb, X_le, Y, cv=5, scoring='roc_auc')\n",
    "print(\"le_scores roc_auc: %f\" % le_scores.mean())\n",
    "\n",
    "re_scores = cross_val_score(gnb, X_re, Y, cv=5, scoring='roc_auc')\n",
    "print(\"re_scores roc_auc: %f\" % re_scores.mean())\n",
    "\n",
    "nose_scores = cross_val_score(gnb, X_nose, Y, cv=5, scoring='roc_auc')\n",
    "print(\"nose_scores roc_auc: %f\" % nose_scores.mean())\n",
    "\n",
    "mouth_scores = cross_val_score(gnb, X_mouth, Y, cv=5, scoring='roc_auc')\n",
    "print(\"mouth_scores roc_auc: %f\" % mouth_scores.mean())\n",
    "\n",
    "face_scores = cross_val_score(gnb, X_face, Y, cv=5, scoring='roc_auc')\n",
    "print(\"face_scores roc_auc: %f\" % face_scores.mean())\n",
    "\n",
    "# scores roc_auc: 0.518225\n",
    "# eyes_scores roc_auc: 0.544747\n",
    "# le_scores roc_auc: 0.539430\n",
    "# re_scores roc_auc: 0.548439\n",
    "# nose_scores roc_auc: 0.588222\n",
    "# mouth_scores roc_auc: 0.772418\n",
    "# face_scores roc_auc: 0.673538"
   ]
  },
  {
   "cell_type": "code",
   "execution_count": null,
   "id": "1bc9df59-c3f1-4cc0-873a-b302115a1e40",
   "metadata": {
    "tags": []
   },
   "outputs": [],
   "source": [
    "# # 对高斯贝叶斯进行调参,嘴巴\n",
    "# best_score = 0\n",
    "# best_priors = 0\n",
    "# k = 0\n",
    "\n",
    "# for i in range(1,101):\n",
    "#     gnb = GaussianNB(priors=[k, 1-k])\n",
    "#     k += 0.01\n",
    "#     Y_pred = cross_val_predict(gnb, X_mouth, Y, cv=5)\n",
    "#     scores = cross_val_score(gnb, X_mouth, Y, cv=5, scoring=\"accuracy\")\n",
    "#     print(\"k=\",k, \"scores=\",scores.mean())\n",
    "#     if scores.mean() > best_score:\n",
    "#         best_score = scores.mean()\n",
    "#         best_priors = k\n",
    "        \n",
    "# print(\"best_score=\", best_score) #0.7128088754412506\n",
    "# print(\"best_n_components=\", best_priors) #0.01\n",
    "\n",
    "# gnb = GaussianNB(priors=[0.01, 0.99])\n",
    "# Y_mouth_pred = cross_val_predict(gnb, X_mouth, Y, cv=5)\n",
    "# print(\"mouth_score:\", accuracy_score(Y, Y_mouth_pred))"
   ]
  },
  {
   "cell_type": "code",
   "execution_count": null,
   "id": "eb137f29-a2ae-42cb-ae0b-caec4d3498c4",
   "metadata": {
    "tags": []
   },
   "outputs": [],
   "source": [
    "# # 对高斯贝叶斯进行调参,人脸\n",
    "# best_score = 0\n",
    "# best_priors = 0\n",
    "# k = 0\n",
    "\n",
    "# for i in range(1,101):\n",
    "#     gnb = GaussianNB(priors=[k, 1-k])\n",
    "#     k += 0.01\n",
    "#     Y_pred = cross_val_predict(gnb, X_face, Y, cv=5)\n",
    "#     scores = cross_val_score(gnb, X_face, Y, cv=5, scoring=\"accuracy\")\n",
    "#     print(\"k=\",k, \"scores=\",scores.mean())\n",
    "#     if scores.mean() > best_score:\n",
    "#         best_score = scores.mean()\n",
    "#         best_priors = k\n",
    "        \n",
    "# print(\"best_score=\", best_score) #0.6122037317196167\n",
    "# print(\"best_n_components=\", best_priors) #0.03\n",
    "\n",
    "\n",
    "# gnb = GaussianNB(priors=[0.03, 0.97])\n",
    "# Y_face_pred = cross_val_predict(gnb, X_face, Y, cv=5)\n",
    "# print(\"face_score:\", accuracy_score(Y, Y_face_pred))"
   ]
  },
  {
   "cell_type": "code",
   "execution_count": null,
   "id": "672d45d8-1a34-4f92-8596-89f2ed37f4ba",
   "metadata": {
    "jupyter": {
     "source_hidden": true
    },
    "tags": []
   },
   "outputs": [],
   "source": [
    "# # 对多项式贝叶斯进行调参\n",
    "# best_score = 0\n",
    "# best_priors = 0\n",
    "# k = 0\n",
    "\n",
    "# for i in range(1,101):\n",
    "#     clf = MultinomialNB(fit_prior=True, class_prior=[k, 1-k])\n",
    "#     k += 0.01\n",
    "#     Y_pred = cross_val_predict(clf, X_mouth, Y, cv=5)\n",
    "#     scores = cross_val_score(clf, X_mouth, Y, cv=5, scoring=\"accuracy\")\n",
    "#     print(\"k=\",k, \"scores=\",scores.mean())\n",
    "#     if scores.mean() > best_score:\n",
    "#         best_score = scores.mean()\n",
    "#         best_priors = k\n",
    "        \n",
    "# print(\"best_score=\", best_score) #\n",
    "# print(\"best_n_components=\", best_priors) #"
   ]
  },
  {
   "cell_type": "code",
   "execution_count": 8,
   "id": "6e6d10af-2cf5-4a12-b952-c0c17ebd93dc",
   "metadata": {
    "tags": []
   },
   "outputs": [],
   "source": [
    "# PCA处理\n",
    "def extract_pca_features(X, k):\n",
    "    X_PCA = [] #用来存储PCA处理后的数据\n",
    "    pca = PCA(n_components=k)\n",
    "    for i in range(len(X)):\n",
    "        # print(i)\n",
    "        pca.fit(X[i])\n",
    "        result = pca.transform(X[i])  \n",
    "        X_PCA.append(result)\n",
    "    return X_PCA"
   ]
  },
  {
   "cell_type": "code",
   "execution_count": null,
   "id": "dc4534f7-9b64-4e92-83c1-d232e9df1e69",
   "metadata": {
    "tags": []
   },
   "outputs": [],
   "source": [
    "# # # 进行PCA参数的选择\n",
    "# gnb = GaussianNB()\n",
    "# # clf = MultinomialNB()"
   ]
  },
  {
   "cell_type": "code",
   "execution_count": null,
   "id": "22f99975-9709-493c-8095-2664aae0091c",
   "metadata": {
    "tags": []
   },
   "outputs": [],
   "source": [
    "# # 全图 (128,128)\n",
    "# best_score = 0\n",
    "# best_n_components = 0\n",
    "\n",
    "# for k in range(1, 128):\n",
    "#     X_pca = extract_pca_features(X, k)\n",
    "#     X_pca = np.array(X_pca)\n",
    "#     X_pca = X_pca.reshape(x_size, 128*k)\n",
    "#     # print(X_eyes_pca.shape)\n",
    "#     Y_pred = cross_val_predict(gnb, X_pca, Y, cv=5)\n",
    "#     scores = cross_val_score(gnb, X_pca, Y, cv=5, scoring=\"accuracy\")\n",
    "#     # print(k, scores.mean())\n",
    "#     if scores.mean() > best_score:\n",
    "#         best_score = scores.mean()\n",
    "#         best_n_components = k\n",
    "\n",
    "# print(\"best_score=\", best_score) 0.5403305370353312\n",
    "# print(\"best_n_components=\", best_n_components) #9"
   ]
  },
  {
   "cell_type": "code",
   "execution_count": null,
   "id": "5aba9662-0502-46d5-ade6-d8b16aa5813d",
   "metadata": {
    "tags": []
   },
   "outputs": [],
   "source": [
    "# # 嘴巴 (16,30)\n",
    "# best_score = 0\n",
    "# best_n_components = 0\n",
    "\n",
    "# for k in range(1, 16):\n",
    "#     X_mouth_pca = extract_pca_features(X_mouth, k)\n",
    "#     X_mouth_pca = np.array(X_mouth_pca)\n",
    "#     X_mouth_pca = X_mouth_pca.reshape(x_mouth_size, 16*k)\n",
    "#     # print(X_eyes_pca.shape)\n",
    "    \n",
    "#     Y_pred = cross_val_predict(gnb, X_mouth_pca, Y, cv=5)\n",
    "#     scores = cross_val_score(gnb, X_mouth_pca, Y, cv=5, scoring=\"accuracy\")\n",
    "    \n",
    "#     # print(k, scores.mean())\n",
    "#     if scores.mean() > best_score:\n",
    "#         best_score = scores.mean()\n",
    "#         best_n_components = k\n",
    "\n",
    "# print(\"mouth_best_score=\", best_score) #0.6552999958706694\n",
    "# print(\"mouth_best_n_components=\", best_n_components) #4"
   ]
  },
  {
   "cell_type": "code",
   "execution_count": null,
   "id": "b3f55838-9ea5-4e7d-af24-41d9b0fc9d05",
   "metadata": {
    "tags": []
   },
   "outputs": [],
   "source": [
    "# # 眼睛 (15,50)\n",
    "# best_score = 0\n",
    "# best_n_components = 0\n",
    "\n",
    "# for k in range(1, 15):\n",
    "#     X_eyes_pca = extract_pca_features(X_eyes, k)\n",
    "#     X_eyes_pca = np.array(X_eyes_pca)\n",
    "#     X_eyes_pca = X_eyes_pca.reshape(x_eyes_size, 15*k)\n",
    "#     # print(X_eyes_pca.shape)\n",
    "#     Y_pred = cross_val_predict(gnb, X_eyes_pca, Y, cv=5)\n",
    "#     scores = cross_val_score(gnb, X_eyes_pca, Y, cv=5, scoring=\"accuracy\")\n",
    "#     # print(k, scores.mean())\n",
    "#     if scores.mean() > best_score:\n",
    "#         best_score = scores.mean()\n",
    "#         best_n_components = k\n",
    "\n",
    "# print(\"eyes_best_score=\", best_score) #0.5410836634150835\n",
    "# print(\"eyes_best_n_components=\", best_n_components) #12"
   ]
  },
  {
   "cell_type": "code",
   "execution_count": null,
   "id": "2c934a9b-d3ee-497e-a069-0ee05b9cd2b4",
   "metadata": {
    "tags": []
   },
   "outputs": [],
   "source": [
    "# # 左眼 (15,20)\n",
    "# best_score = 0\n",
    "# best_n_components = 0\n",
    "\n",
    "# for k in range(1, 15):\n",
    "#     X_le_pca = extract_pca_features(X_le, k)\n",
    "#     X_le_pca = np.array(X_le_pca)\n",
    "#     X_le_pca = X_le_pca.reshape(x_le_size, 15*k)\n",
    "#     # print(X_eyes_pca.shape)\n",
    "#     Y_pred = cross_val_predict(gnb, X_le_pca, Y, cv=5)\n",
    "#     scores = cross_val_score(gnb, X_le_pca, Y, cv=5, scoring=\"accuracy\")\n",
    "#     print(k, scores.mean())\n",
    "#     if scores.mean() > best_score:\n",
    "#         best_score = scores.mean()\n",
    "#         best_n_components = k\n",
    "\n",
    "# print(\"le_best_score=\", best_score) #0.5125960466423777\n",
    "# print(\"le_best_n_components=\", best_n_components) #5"
   ]
  },
  {
   "cell_type": "code",
   "execution_count": null,
   "id": "56535036-28a1-45fc-abed-6bb06901a077",
   "metadata": {
    "tags": []
   },
   "outputs": [],
   "source": [
    "# # 右眼 (15,20)\n",
    "# best_score = 0\n",
    "# best_n_components = 0\n",
    "\n",
    "# for k in range(1, 15):\n",
    "#     X_re_pca = extract_pca_features(X_re, k)\n",
    "#     X_re_pca = np.array(X_re_pca)\n",
    "#     X_re_pca = X_re_pca.reshape(x_re_size, 15*k)\n",
    "#     # print(X_eyes_pca.shape)\n",
    "#     Y_pred = cross_val_predict(gnb, X_re_pca, Y, cv=5)\n",
    "#     scores = cross_val_score(gnb, X_re_pca, Y, cv=5, scoring=\"accuracy\")\n",
    "#     print(k, scores.mean())\n",
    "#     if scores.mean() > best_score:\n",
    "#         best_score = scores.mean()\n",
    "#         best_n_components = k\n",
    "\n",
    "# print(\"re_best_score=\", best_score) #0.5360522328561309\n",
    "# print(\"re_best_n_components=\", best_n_components) #1"
   ]
  },
  {
   "cell_type": "code",
   "execution_count": null,
   "id": "5c49b62f-9cc3-40b9-8bd6-f074d62597cb",
   "metadata": {
    "tags": []
   },
   "outputs": [],
   "source": [
    "# # 鼻子 (15,20)\n",
    "# best_score = 0\n",
    "# best_n_components = 0\n",
    "\n",
    "# for k in range(1, 15):\n",
    "#     X_nose_pca = extract_pca_features(X_nose, k)\n",
    "#     X_nose_pca = np.array(X_nose_pca)\n",
    "#     X_nose_pca = X_nose_pca.reshape(x_nose_size, 15*k)\n",
    "#     # print(X_eyes_pca.shape)\n",
    "#     Y_pred = cross_val_predict(gnb, X_nose_pca, Y, cv=5)\n",
    "#     scores = cross_val_score(gnb, X_nose_pca, Y, cv=5, scoring=\"accuracy\")\n",
    "#     print(k, scores.mean())\n",
    "#     if scores.mean() > best_score:\n",
    "#         best_score = scores.mean()\n",
    "#         best_n_components = k\n",
    "\n",
    "# print(\"nose_best_score=\", best_score) #0.5123584513104272\n",
    "# print(\"nose_best_n_components=\", best_n_components) #7"
   ]
  },
  {
   "cell_type": "code",
   "execution_count": null,
   "id": "6843b50a-c679-4409-9bef-c66f1ccb9eaf",
   "metadata": {
    "tags": []
   },
   "outputs": [],
   "source": [
    "# # 人脸 (50,50)\n",
    "# best_score = 0\n",
    "# best_n_components = 0\n",
    "\n",
    "# x_face_size = len(X_face)\n",
    "\n",
    "# for k in range(1, 50):\n",
    "#     X_face_pca = extract_pca_features(X_face, k)\n",
    "#     X_face_pca = np.array(X_face_pca)\n",
    "#     X_face_pca = X_face_pca.reshape(x_face_size, 50*k)\n",
    "#     # print(X_eyes_pca.shape)\n",
    "#     Y_pred = cross_val_predict(gnb, X_face_pca, Y, cv=5)\n",
    "#     scores = cross_val_score(gnb, X_face_pca, Y, cv=5, scoring=\"accuracy\")\n",
    "#     # print(scores.mean())\n",
    "#     if scores.mean() > best_score:\n",
    "#         best_score = scores.mean()\n",
    "#         best_n_components = k\n",
    "\n",
    "# print(\"re_best_score=\", best_score) #0.6356370763068538\n",
    "# print(\"re_best_n_components=\", best_n_components) #10"
   ]
  },
  {
   "cell_type": "code",
   "execution_count": 9,
   "id": "8c6643e3-c198-47a3-9993-7f51be11a067",
   "metadata": {
    "tags": []
   },
   "outputs": [
    {
     "name": "stderr",
     "output_type": "stream",
     "text": [
      "D:\\Anaconda\\Anaconda3\\lib\\site-packages\\sklearn\\decomposition\\_pca.py:470: RuntimeWarning: invalid value encountered in true_divide\n",
      "  explained_variance_ratio_ = explained_variance_ / total_var\n",
      "D:\\Anaconda\\Anaconda3\\lib\\site-packages\\sklearn\\decomposition\\_pca.py:470: RuntimeWarning: invalid value encountered in true_divide\n",
      "  explained_variance_ratio_ = explained_variance_ / total_var\n",
      "D:\\Anaconda\\Anaconda3\\lib\\site-packages\\sklearn\\decomposition\\_pca.py:470: RuntimeWarning: invalid value encountered in true_divide\n",
      "  explained_variance_ratio_ = explained_variance_ / total_var\n",
      "D:\\Anaconda\\Anaconda3\\lib\\site-packages\\sklearn\\decomposition\\_pca.py:470: RuntimeWarning: invalid value encountered in true_divide\n",
      "  explained_variance_ratio_ = explained_variance_ / total_var\n",
      "D:\\Anaconda\\Anaconda3\\lib\\site-packages\\sklearn\\decomposition\\_pca.py:470: RuntimeWarning: invalid value encountered in true_divide\n",
      "  explained_variance_ratio_ = explained_variance_ / total_var\n",
      "D:\\Anaconda\\Anaconda3\\lib\\site-packages\\sklearn\\decomposition\\_pca.py:470: RuntimeWarning: invalid value encountered in true_divide\n",
      "  explained_variance_ratio_ = explained_variance_ / total_var\n",
      "D:\\Anaconda\\Anaconda3\\lib\\site-packages\\sklearn\\decomposition\\_pca.py:470: RuntimeWarning: invalid value encountered in true_divide\n",
      "  explained_variance_ratio_ = explained_variance_ / total_var\n",
      "D:\\Anaconda\\Anaconda3\\lib\\site-packages\\sklearn\\decomposition\\_pca.py:470: RuntimeWarning: invalid value encountered in true_divide\n",
      "  explained_variance_ratio_ = explained_variance_ / total_var\n",
      "D:\\Anaconda\\Anaconda3\\lib\\site-packages\\sklearn\\decomposition\\_pca.py:470: RuntimeWarning: invalid value encountered in true_divide\n",
      "  explained_variance_ratio_ = explained_variance_ / total_var\n",
      "D:\\Anaconda\\Anaconda3\\lib\\site-packages\\sklearn\\decomposition\\_pca.py:470: RuntimeWarning: invalid value encountered in true_divide\n",
      "  explained_variance_ratio_ = explained_variance_ / total_var\n",
      "D:\\Anaconda\\Anaconda3\\lib\\site-packages\\sklearn\\decomposition\\_pca.py:470: RuntimeWarning: invalid value encountered in true_divide\n",
      "  explained_variance_ratio_ = explained_variance_ / total_var\n",
      "D:\\Anaconda\\Anaconda3\\lib\\site-packages\\sklearn\\decomposition\\_pca.py:470: RuntimeWarning: invalid value encountered in true_divide\n",
      "  explained_variance_ratio_ = explained_variance_ / total_var\n",
      "D:\\Anaconda\\Anaconda3\\lib\\site-packages\\sklearn\\decomposition\\_pca.py:470: RuntimeWarning: invalid value encountered in true_divide\n",
      "  explained_variance_ratio_ = explained_variance_ / total_var\n",
      "D:\\Anaconda\\Anaconda3\\lib\\site-packages\\sklearn\\decomposition\\_pca.py:470: RuntimeWarning: invalid value encountered in true_divide\n",
      "  explained_variance_ratio_ = explained_variance_ / total_var\n",
      "D:\\Anaconda\\Anaconda3\\lib\\site-packages\\sklearn\\decomposition\\_pca.py:470: RuntimeWarning: invalid value encountered in true_divide\n",
      "  explained_variance_ratio_ = explained_variance_ / total_var\n",
      "D:\\Anaconda\\Anaconda3\\lib\\site-packages\\sklearn\\decomposition\\_pca.py:470: RuntimeWarning: invalid value encountered in true_divide\n",
      "  explained_variance_ratio_ = explained_variance_ / total_var\n",
      "D:\\Anaconda\\Anaconda3\\lib\\site-packages\\sklearn\\decomposition\\_pca.py:470: RuntimeWarning: invalid value encountered in true_divide\n",
      "  explained_variance_ratio_ = explained_variance_ / total_var\n",
      "D:\\Anaconda\\Anaconda3\\lib\\site-packages\\sklearn\\decomposition\\_pca.py:470: RuntimeWarning: invalid value encountered in true_divide\n",
      "  explained_variance_ratio_ = explained_variance_ / total_var\n",
      "D:\\Anaconda\\Anaconda3\\lib\\site-packages\\sklearn\\decomposition\\_pca.py:470: RuntimeWarning: invalid value encountered in true_divide\n",
      "  explained_variance_ratio_ = explained_variance_ / total_var\n",
      "D:\\Anaconda\\Anaconda3\\lib\\site-packages\\sklearn\\decomposition\\_pca.py:470: RuntimeWarning: invalid value encountered in true_divide\n",
      "  explained_variance_ratio_ = explained_variance_ / total_var\n"
     ]
    }
   ],
   "source": [
    "# PCA降维后，而图像得到最高精确率时的X值\n",
    "\n",
    "# 将上面变成2维的X值还原为3维\n",
    "X = X.reshape(x_size, 128, 128)\n",
    "X_eyes = X_eyes.reshape(x_eyes_size, 15, 50)\n",
    "X_le = X_le.reshape(x_le_size, 15, 20)\n",
    "X_re = X_re.reshape(x_re_size, 15, 20)\n",
    "X_nose = X_nose.reshape(x_nose_size, 15, 20)\n",
    "X_mouth = X_mouth.reshape(x_mouth_size, 16, 30)\n",
    "X_face = X_face.reshape(x_face_size, 50, 50)\n",
    "\n",
    "#全图\n",
    "X_pca = extract_pca_features(X, 9)\n",
    "X_pca = np.array(X_pca)\n",
    "X_pca = X_pca.reshape(x_size, 128*9)\n",
    "\n",
    "#眼睛\n",
    "X_eyes_pca = extract_pca_features(X_eyes, 12)\n",
    "X_eyes_pca = np.array(X_eyes_pca)\n",
    "X_eyes_pca = X_eyes_pca.reshape(x_eyes_size, 15*12)\n",
    "\n",
    "#左眼\n",
    "X_le_pca = extract_pca_features(X_le, 5)\n",
    "X_le_pca = np.array(X_le_pca)\n",
    "X_le_pca = X_le_pca.reshape(x_le_size, 15*5)\n",
    "\n",
    "#右眼\n",
    "X_re_pca = extract_pca_features(X_re, 1)\n",
    "X_re_pca = np.array(X_re_pca)\n",
    "X_re_pca = X_re_pca.reshape(x_re_size, 15*1)\n",
    "\n",
    "#鼻子\n",
    "X_nose_pca = extract_pca_features(X_nose, 7)\n",
    "X_nose_pca = np.array(X_nose_pca)\n",
    "X_nose_pca = X_nose_pca.reshape(x_nose_size, 15*7)\n",
    "\n",
    "#嘴巴\n",
    "X_mouth_pca = extract_pca_features(X_mouth, 4)\n",
    "X_mouth_pca = np.array(X_mouth_pca)\n",
    "X_mouth_pca = X_mouth_pca.reshape(x_mouth_size, 16*4)\n",
    "\n",
    "#人脸\n",
    "X_face_pca = extract_pca_features(X_face, 10)\n",
    "X_face_pca = np.array(X_face_pca)\n",
    "X_face_pca = X_face_pca.reshape(x_face_size, 50*10)"
   ]
  },
  {
   "cell_type": "code",
   "execution_count": null,
   "id": "80a5e4d4-72c7-4d28-9c43-c78857af01e8",
   "metadata": {},
   "outputs": [],
   "source": [
    "# PCA降维后，精确率\n",
    "gnb = GaussianNB()\n",
    "Y_pca_pred = cross_val_predict(gnb, X_pca, Y, cv=5)\n",
    "print(\"image_pca_score:\", accuracy_score(Y, Y_pca_pred))\n",
    "\n",
    "Y_eyes_pca_pred = cross_val_predict(gnb, X_eyes_pca, Y, cv=5)\n",
    "print(\"eyes_pca_score:\", accuracy_score(Y, Y_eyes_pca_pred))\n",
    "\n",
    "Y_le_pca_pred = cross_val_predict(gnb, X_le_pca, Y, cv=5)\n",
    "print(\"le_pca_score:\", accuracy_score(Y, Y_le_pca_pred))\n",
    "\n",
    "Y_re_pca_pred = cross_val_predict(gnb, X_re_pca, Y, cv=5)\n",
    "print(\"re_pca_score:\", accuracy_score(Y, Y_re_pca_pred))\n",
    "\n",
    "Y_nose_pca_pred = cross_val_predict(gnb, X_nose_pca, Y, cv=5)\n",
    "print(\"nose_pca_score:\", accuracy_score(Y, Y_nose_pca_pred))\n",
    "\n",
    "Y_mouth_pca_pred = cross_val_predict(gnb, X_mouth_pca, Y, cv=5)\n",
    "print(\"mouth_pca_score:\", accuracy_score(Y, Y_mouth_pca_pred))\n",
    "\n",
    "Y_face_pca_pred = cross_val_predict(gnb, X_face_pca, Y, cv=5)\n",
    "print(\"face_pca_score:\", accuracy_score(Y, Y_face_pca_pred))\n",
    "\n",
    "# image_pca_score: 0.5403429147755925\n",
    "# eyes_pca_score: 0.5410993444276349\n",
    "# le_pca_score: 0.5126071608673727\n",
    "# re_pca_score: 0.5360564800806858\n",
    "# nose_pca_score: 0.5123550176500252\n",
    "# mouth_pca_score: 0.6553202218860312\n",
    "# face_pca_score: 0.6356530509329299"
   ]
  },
  {
   "cell_type": "code",
   "execution_count": null,
   "id": "3a0f9ea4-1bcb-40c0-a788-5ccde83dcae3",
   "metadata": {
    "tags": []
   },
   "outputs": [],
   "source": [
    "# PCA特征同去后，混淆矩阵\n",
    "from sklearn.metrics import confusion_matrix\n",
    "\n",
    "gnb = GaussianNB()\n",
    "\n",
    "Y_pred = cross_val_predict(gnb, X_pca, Y, cv=5)\n",
    "image_pca_cm = confusion_matrix(Y, Y_pred)\n",
    "print(\"image_pca_confusion_matrix:\\n\", image_pca_cm)\n",
    "\n",
    "Y_eyes_pred = cross_val_predict(gnb, X_eyes_pca, Y, cv=5)\n",
    "eyes_pca_cm = confusion_matrix(Y, Y_eyes_pred)\n",
    "print(\"eyes_pca_confusion_matrix:\\n\", eyes_pca_cm)\n",
    "\n",
    "Y_le_pred = cross_val_predict(gnb, X_le_pca, Y, cv=5)\n",
    "le_pca_cm = confusion_matrix(Y, Y_le_pred)\n",
    "print(\"le_pca_confusion_matrix:\\n\", le_pca_cm)\n",
    "\n",
    "Y_re_pred = cross_val_predict(gnb, X_re_pca, Y, cv=5)\n",
    "re_pca_cm = confusion_matrix(Y, Y_re_pred)\n",
    "print(\"re_pca_confusion_matrix:\\n\", re_pca_cm)\n",
    "\n",
    "Y_nose_pred = cross_val_predict(gnb, X_nose_pca, Y, cv=5)\n",
    "nose_pca_cm = confusion_matrix(Y, Y_nose_pred)\n",
    "print(\"nose_pca_confusion_matrix:\\n\", nose_pca_cm)\n",
    "\n",
    "Y_mouth_pred = cross_val_predict(gnb, X_mouth_pca, Y, cv=5)\n",
    "mouth_pca_cm = confusion_matrix(Y, Y_mouth_pred)\n",
    "print(\"mouth_pca_confusion_matrix:\\n\", mouth_pca_cm)\n",
    "\n",
    "Y_face_pred = cross_val_predict(gnb, X_face_pca, Y, cv=5)\n",
    "face_pca_cm = confusion_matrix(Y, Y_face_pred)\n",
    "print(\"face_pca_confusion_matrix:\\n\", face_pca_cm)\n",
    "\n",
    "# image_pca_confusion_matrix:\n",
    "#  [[ 966 1013]\n",
    "#  [ 810 1177]]\n",
    "\n",
    "# eyes_pca_confusion_matrix:\n",
    "#  [[1098  881]\n",
    "#  [ 939 1048]]\n",
    "\n",
    "# le_pca_confusion_matrix:\n",
    "#  [[1025  954]\n",
    "#  [ 979 1008]]\n",
    "\n",
    "# re_pca_confusion_matrix:\n",
    "#  [[1074  905]\n",
    "#  [ 935 1052]]\n",
    "\n",
    "# nose_pca_confusion_matrix:\n",
    "#  [[1203  776]\n",
    "#  [1158  829]]\n",
    "\n",
    "# mouth_pca_confusion_matrix:\n",
    "#  [[1128  851]\n",
    "#  [ 516 1471]]\n",
    "\n",
    "# face_pca_confusion_matrix:\n",
    "#  [[1227  752]\n",
    "#  [ 693 1294]]"
   ]
  },
  {
   "cell_type": "code",
   "execution_count": null,
   "id": "baded604-5a69-4302-ba62-28b9e2bd3e48",
   "metadata": {
    "tags": []
   },
   "outputs": [],
   "source": [
    "# PCA后，F1、Percison、Recall、Specifity\n",
    "\n",
    "image_pca_f1 = cross_val_score(gnb, X_pca, Y, cv=5, scoring='f1')\n",
    "print(\"image_pca_f1: %f\" % image_pca_f1.mean())\n",
    "image_pca_precision = cross_val_score(gnb, X_pca, Y, cv=5, scoring='precision')\n",
    "print(\"image_pca_precision: %f\" % image_pca_precision.mean())\n",
    "image_pca_recall = cross_val_score(gnb, X_pca, Y, cv=5, scoring='recall')\n",
    "print(\"image_pca_recall: %f\" % image_pca_recall.mean())\n",
    "image_pca_specifity = image_pca_cm[1][1]/(image_pca_cm[1][1]+image_pca_cm[0][1])\n",
    "print(\"image_specifity: %f\" % image_pca_specifity)\n",
    "\n",
    "eyes_pca_f1 = cross_val_score(gnb, X_eyes_pca, Y, cv=5, scoring='f1')\n",
    "print(\"eyes_pca_f1: %f\" % eyes_pca_f1.mean())\n",
    "eyes_pca_precision = cross_val_score(gnb, X_eyes_pca, Y, cv=5, scoring='precision')\n",
    "print(\"eyes_pca_precision: %f\" % eyes_pca_precision.mean())\n",
    "eyes_pca_recall = cross_val_score(gnb, X_eyes_pca, Y, cv=5, scoring='recall')\n",
    "print(\"eyes_pca_recall: %f\" % eyes_pca_recall.mean())\n",
    "eyes_pca_specifity = eyes_pca_cm[1][1]/(eyes_pca_cm[1][1]+eyes_pca_cm[0][1])\n",
    "print(\"eyes_pca_specifity: %f\" % eyes_pca_specifity)\n",
    "\n",
    "le_pca_f1 = cross_val_score(gnb, X_le_pca, Y, cv=5, scoring='f1')\n",
    "print(\"le_pca_f1: %f\" % le_pca_f1.mean())\n",
    "le_pca_precision = cross_val_score(gnb, X_le_pca, Y, cv=5, scoring='precision')\n",
    "print(\"le_pca_precision: %f\" % le_pca_precision.mean())\n",
    "le_pca_recall = cross_val_score(gnb, X_le_pca, Y, cv=5, scoring='recall')\n",
    "print(\"le_pca_recall: %f\" % le_pca_recall.mean())\n",
    "le_pca_specifity = le_pca_cm[1][1]/(le_pca_cm[1][1]+le_pca_cm[0][1])\n",
    "print(\"le_pca_specifity: %f\" % le_pca_specifity)\n",
    "\n",
    "re_pca_f1 = cross_val_score(gnb, X_re_pca, Y, cv=5, scoring='f1')\n",
    "print(\"re_pca_f1: %f\" % re_pca_f1.mean())\n",
    "re_pca_precision = cross_val_score(gnb, X_re_pca, Y, cv=5, scoring='precision')\n",
    "print(\"re_pca_precision: %f\" % re_pca_precision.mean())\n",
    "re_pca_recall = cross_val_score(gnb, X_re_pca, Y, cv=5, scoring='recall')\n",
    "print(\"re_pca_recall: %f\" % re_pca_recall.mean())\n",
    "re_pca_specifity = re_pca_cm[1][1]/(re_pca_cm[1][1]+re_pca_cm[0][1])\n",
    "print(\"re_pca_specifity: %f\" % re_pca_specifity)\n",
    "\n",
    "nose_pca_f1 = cross_val_score(gnb, X_nose_pca, Y, cv=5, scoring='f1')\n",
    "print(\"nose_pca_f1: %f\" % nose_pca_f1.mean())\n",
    "nose_pca_precision = cross_val_score(gnb, X_nose_pca, Y, cv=5, scoring='precision')\n",
    "print(\"nose_pca_precision: %f\" % nose_pca_precision.mean())\n",
    "nose_pca_recall = cross_val_score(gnb, X_nose_pca, Y, cv=5, scoring='recall')\n",
    "print(\"nose_pca_recall: %f\" % nose_pca_recall.mean())\n",
    "nose_pca_specifity = nose_pca_cm[1][1]/(nose_pca_cm[1][1]+nose_pca_cm[0][1])\n",
    "print(\"nose_pca_specifity: %f\" % nose_pca_specifity)\n",
    "\n",
    "mouth_pca_f1 = cross_val_score(gnb, X_mouth_pca, Y, cv=5, scoring='f1')\n",
    "print(\"mouth_pca_f1: %f\" % mouth_pca_f1.mean())\n",
    "mouth_pca_precision = cross_val_score(gnb, X_mouth_pca, Y, cv=5, scoring='precision')\n",
    "print(\"mouth_pca_precision: %f\" % mouth_pca_precision.mean())\n",
    "mouth_pca_recall = cross_val_score(gnb, X_mouth_pca, Y, cv=5, scoring='recall')\n",
    "print(\"mouth_pca_recall: %f\" % mouth_pca_recall.mean())\n",
    "mouth_pca_specifity = mouth_pca_cm[1][1]/(mouth_pca_cm[1][1]+mouth_pca_cm[0][1])\n",
    "print(\"mouth_pca_specifity: %f\" % mouth_pca_specifity)\n",
    "\n",
    "face_pca_f1 = cross_val_score(gnb, X_face_pca, Y, cv=5, scoring='f1')\n",
    "print(\"face_pca_f1: %f\" % face_pca_f1.mean())\n",
    "face_pca_precision = cross_val_score(gnb, X_face_pca, Y, cv=5, scoring='precision')\n",
    "print(\"face_pca_precision: %f\" % face_pca_precision.mean())\n",
    "face_pca_recall = cross_val_score(gnb, X_face_pca, Y, cv=5, scoring='recall')\n",
    "print(\"face_pca_recall: %f\" % face_pca_recall.mean())\n",
    "face_pca_specifity = face_pca_cm[1][1]/(face_pca_cm[1][1]+face_pca_cm[0][1])\n",
    "print(\"face_pca_specifity: %f\" % face_pca_specifity)\n",
    "\n",
    "# image_pca_f1: 0.550806\n",
    "# image_pca_precision: 0.536926\n",
    "# image_pca_recall: 0.592498\n",
    "# image_specifity: 0.537443\n",
    "\n",
    "# eyes_pca_f1: 0.534238\n",
    "# eyes_pca_precision: 0.548016\n",
    "# eyes_pca_recall: 0.527470\n",
    "# eyes_pca_specifity: 0.543287\n",
    "\n",
    "# le_pca_f1: 0.506489\n",
    "# le_pca_precision: 0.515885\n",
    "# le_pca_recall: 0.507340\n",
    "# le_pca_specifity: 0.513761\n",
    "\n",
    "# re_pca_f1: 0.531888\n",
    "# re_pca_precision: 0.538789\n",
    "# re_pca_recall: 0.529477\n",
    "# re_pca_specifity: 0.537557\n",
    "\n",
    "# nose_pca_f1: 0.459679\n",
    "# nose_pca_precision: 0.522678\n",
    "# nose_pca_recall: 0.417264\n",
    "# nose_pca_specifity: 0.516511\n",
    "\n",
    "# mouth_pca_f1: 0.678172\n",
    "# mouth_pca_precision: 0.630775\n",
    "# mouth_pca_recall: 0.740201\n",
    "# mouth_pca_specifity: 0.633506\n",
    "\n",
    "# face_pca_f1: 0.638918\n",
    "# face_pca_precision: 0.634477\n",
    "# face_pca_recall: 0.651161\n",
    "# face_pca_specifity: 0.632454"
   ]
  },
  {
   "cell_type": "code",
   "execution_count": null,
   "id": "ced38847-c34f-4c03-9ad1-ab4088f99ec7",
   "metadata": {
    "tags": []
   },
   "outputs": [],
   "source": [
    "# PCA后，准确率的平均值和方差\n",
    "pca_scores = cross_val_score(gnb, X_pca, Y, cv=5)\n",
    "print(\"pca_scores Accuracy: %0.5f (+/- %0.5f)\" % (pca_scores.mean(), pca_scores.std() * 2))\n",
    "\n",
    "eyes_pca_scores = cross_val_score(gnb, X_eyes_pca, Y, cv=5)\n",
    "print(\"eyes_pca_scores Accuracy: %0.5f (+/- %0.5f)\" % (eyes_pca_scores.mean(), eyes_pca_scores.std() * 2))\n",
    "\n",
    "le_pca_scores = cross_val_score(gnb, X_le_pca, Y, cv=5)\n",
    "print(\"le_pca_scores Accuracy: %0.5f (+/- %0.5f)\" % (le_pca_scores.mean(), le_pca_scores.std() * 2))\n",
    "\n",
    "re_pca_scores = cross_val_score(gnb, X_re_pca, Y, cv=5)\n",
    "print(\"re_pca_scores Accuracy: %0.5f (+/- %0.5f)\" % (re_pca_scores.mean(), re_pca_scores.std() * 2))\n",
    "\n",
    "nose_pca_scores = cross_val_score(gnb, X_nose_pca, Y, cv=5)\n",
    "print(\"nose_pca_scores Accuracy: %0.5f (+/- %0.5f)\" % (nose_pca_scores.mean(), nose_pca_scores.std() * 2))\n",
    "\n",
    "mouth_pca_scores = cross_val_score(gnb, X_mouth_pca, Y, cv=5)\n",
    "print(\"mouth_pca_scores Accuracy: %0.5f (+/- %0.5f)\" % (mouth_pca_scores.mean(), mouth_pca_scores.std() * 2))\n",
    "\n",
    "face_pca_scores = cross_val_score(gnb, X_face_pca, Y, cv=5)\n",
    "print(\"face_pca_scores Accuracy: %0.5f (+/- %0.5f)\" % (face_pca_scores.mean(), face_pca_scores.std() * 2))\n",
    "\n",
    "# pca_scores Accuracy: 0.54033 (+/- 0.06841)\n",
    "# eyes_pca_scores Accuracy: 0.54108 (+/- 0.06389)\n",
    "# le_pca_scores Accuracy: 0.51260 (+/- 0.07064)\n",
    "# re_pca_scores Accuracy: 0.53605 (+/- 0.07271)\n",
    "# nose_pca_scores Accuracy: 0.51236 (+/- 0.06161)\n",
    "# mouth_pca_scores Accuracy: 0.65530 (+/- 0.09676)\n",
    "# face_pca_scores Accuracy: 0.63564 (+/- 0.11599)"
   ]
  },
  {
   "cell_type": "code",
   "execution_count": null,
   "id": "a6031b0d-77a7-4fc4-bbc2-ef7257e55274",
   "metadata": {
    "tags": []
   },
   "outputs": [],
   "source": [
    "# PCA后，AUC\n",
    "pca_scores = cross_val_score(gnb, X_pca, Y, cv=5, scoring='roc_auc')\n",
    "print(\"pca_scores roc_auc: %f\" % pca_scores.mean())\n",
    "\n",
    "eyes_pca_scores = cross_val_score(gnb, X_eyes_pca, Y, cv=5, scoring='roc_auc')\n",
    "print(\"eyes_pca_scores roc_auc: %f\" % eyes_pca_scores.mean())\n",
    "\n",
    "le_pca_scores = cross_val_score(gnb, X_le_pca, Y, cv=5, scoring='roc_auc')\n",
    "print(\"le_pca_scores roc_auc: %f\" % le_pca_scores.mean())\n",
    "\n",
    "re_pca_scores = cross_val_score(gnb, X_re_pca, Y, cv=5, scoring='roc_auc')\n",
    "print(\"re_pca_scores roc_auc: %f\" % re_pca_scores.mean())\n",
    "\n",
    "nose_pca_scores = cross_val_score(gnb, X_nose_pca, Y, cv=5, scoring='roc_auc')\n",
    "print(\"nose_pca_scores roc_auc: %f\" % nose_pca_scores.mean())\n",
    "\n",
    "mouth_pca_scores = cross_val_score(gnb, X_mouth_pca, Y, cv=5, scoring='roc_auc')\n",
    "print(\"mouth_pca_scores roc_auc: %f\" % mouth_pca_scores.mean())\n",
    "\n",
    "face_scores = cross_val_score(gnb, X_face_pca, Y, cv=5, scoring='roc_auc')\n",
    "print(\"face_pca_scores roc_auc: %f\" % face_pca_scores.mean())\n",
    "\n",
    "# pca_scores roc_auc: 0.543400\n",
    "# eyes_pca_scores roc_auc: 0.554616\n",
    "# le_pca_scores roc_auc: 0.516355\n",
    "# re_pca_scores roc_auc: 0.550641\n",
    "# nose_pca_scores roc_auc: 0.523114\n",
    "# mouth_pca_scores roc_auc: 0.720312\n",
    "# face_pca_scores roc_auc: 0.635637"
   ]
  },
  {
   "cell_type": "code",
   "execution_count": null,
   "id": "f8ffe330-784b-4155-9147-eed351153b6e",
   "metadata": {
    "tags": []
   },
   "outputs": [],
   "source": [
    "# # 查找特征提取后，嘴巴的最大的精确率\n",
    "# best_score = 0\n",
    "# best_priors = 0\n",
    "# k = 0\n",
    "\n",
    "# X_mouth_pca = extract_pca_features(X_mouth, 3)\n",
    "# X_mouth_pca = np.array(X_mouth_pca)\n",
    "# X_mouth_pca = X_mouth_pca.reshape(x_mouth_size, 16*3)\n",
    "\n",
    "# for i in range(1,101):\n",
    "#     gnb = GaussianNB(priors=[k, 1-k])\n",
    "#     k += 0.01\n",
    "#     Y_pred = cross_val_predict(gnb, X_mouth_pca, Y, cv=5)\n",
    "#     scores = cross_val_score(gnb, X_mouth_pca, Y, cv=5, scoring=\"accuracy\")\n",
    "#     print(\"k=\",k, \"scores=\",scores.mean())\n",
    "#     if scores.mean() > best_score:\n",
    "#         best_score = scores.mean()\n",
    "#         best_priors = k\n",
    "        \n",
    "# print(\"best_score=\", best_score) #0.6679273827534039\n",
    "# print(\"best_n_components=\", best_priors) #0.84\n",
    "\n",
    "# gnb = GaussianNB(priors=[0.84, 0.16])\n",
    "# Y_mouth_pred = cross_val_predict(gnb, X_mouth_pca, Y, cv=5)\n",
    "# print(\"mouth_score:\", accuracy_score(Y, Y_mouth_pred))"
   ]
  },
  {
   "cell_type": "code",
   "execution_count": null,
   "id": "0268ff07-ec70-426f-b09c-ddc078b7c1d6",
   "metadata": {
    "tags": []
   },
   "outputs": [],
   "source": [
    "# 查找特征提取后，人脸的最大的精确率\n",
    "# best_score = 0\n",
    "# best_priors = 0\n",
    "# k = 0\n",
    "\n",
    "# x_face_size = len(X_face)\n",
    "# X_face_pca = extract_pca_features(X_face, 10)\n",
    "# X_face_pca = np.array(X_face_pca)\n",
    "# X_face_pca = X_face_pca.reshape(x_face_size, 50*10)\n",
    "\n",
    "# for i in range(1,101):\n",
    "#     gnb = GaussianNB(priors=[k, 1-k])\n",
    "#     k += 0.01\n",
    "#     Y_pred = cross_val_predict(gnb, X_face_pca, Y, cv=5)\n",
    "#     scores = cross_val_score(gnb, X_face_pca, Y, cv=5, scoring=\"accuracy\")\n",
    "#     print(\"k=\",k, \"scores=\",scores.mean())\n",
    "#     if scores.mean() > best_score:\n",
    "#         best_score = scores.mean()\n",
    "#         best_priors = k\n",
    "        \n",
    "# print(\"best_score=\", best_score) #0.6391830559757943\n",
    "# print(\"best_n_components=\", best_priors) #0.57\n",
    "\n",
    "# gnb = GaussianNB(priors=[0.57, 0.43])\n",
    "# Y_face_pred = cross_val_predict(gnb, X_face_pca, Y, cv=5)\n",
    "# print(\"face_score:\", accuracy_score(Y, Y_face_pred))"
   ]
  },
  {
   "cell_type": "code",
   "execution_count": 10,
   "id": "c8edb6cd-4fb4-46e3-bca1-d9ca9da9891b",
   "metadata": {
    "tags": []
   },
   "outputs": [
    {
     "data": {
      "text/plain": [
       "<function matplotlib.pyplot.show(close=None, block=None)>"
      ]
     },
     "execution_count": 10,
     "metadata": {},
     "output_type": "execute_result"
    },
    {
     "data": {
      "image/png": "[encoded data removed]",
      "text/plain": [
       "<Figure size 432x288 with 1 Axes>"
      ]
     },
     "metadata": {
      "needs_background": "light"
     },
     "output_type": "display_data"
    }
   ],
   "source": [
    "# 未经PCA降维的原图，以第一张图为例，全图\n",
    "plt.imshow(X[0])\n",
    "plt.axis('off')\n",
    "plt.show"
   ]
  },
  {
   "cell_type": "code",
   "execution_count": 11,
   "id": "b82ccfe0-5781-43c2-bb84-d0676a2e83b1",
   "metadata": {
    "tags": []
   },
   "outputs": [
    {
     "data": {
      "text/plain": [
       "<function matplotlib.pyplot.show(close=None, block=None)>"
      ]
     },
     "execution_count": 11,
     "metadata": {},
     "output_type": "execute_result"
    },
    {
     "data": {
      "image/png": "[encoded data removed]",
      "text/plain": [
       "<Figure size 432x288 with 1 Axes>"
      ]
     },
     "metadata": {
      "needs_background": "light"
     },
     "output_type": "display_data"
    }
   ],
   "source": [
    "# 将星PCA降维后，还原图像，以第一张图为例，全图\n",
    "pca = PCA(n_components=9)\n",
    "x_pca = pca.fit_transform(X[0])\n",
    "comp = pca.components_\n",
    "x_m = X[0] - X[0].mean()\n",
    "np.dot(x_m, np.linalg.pinv(comp))\n",
    "X0 = np.matmul(x_pca, comp) + X[0].mean()\n",
    "# print(X[0].shape)\n",
    "plt.imshow(X0)\n",
    "plt.axis('off')\n",
    "plt.show"
   ]
  },
  {
   "cell_type": "code",
   "execution_count": 12,
   "id": "e283d489-1929-4925-8135-015d50c670f1",
   "metadata": {
    "tags": []
   },
   "outputs": [
    {
     "data": {
      "text/plain": [
       "<function matplotlib.pyplot.show(close=None, block=None)>"
      ]
     },
     "execution_count": 12,
     "metadata": {},
     "output_type": "execute_result"
    },
    {
     "data": {
      "image/png": "[encoded data removed]",
      "text/plain": [
       "<Figure size 432x288 with 1 Axes>"
      ]
     },
     "metadata": {
      "needs_background": "light"
     },
     "output_type": "display_data"
    }
   ],
   "source": [
    "# 未经PCA降维的原图，以第一张图为例，嘴巴\n",
    "plt.imshow(X_mouth[0])\n",
    "plt.axis('off')\n",
    "plt.show"
   ]
  },
  {
   "cell_type": "code",
   "execution_count": 13,
   "id": "ebfd9770-5351-4215-b271-131d30899202",
   "metadata": {
    "tags": []
   },
   "outputs": [
    {
     "data": {
      "text/plain": [
       "<function matplotlib.pyplot.show(close=None, block=None)>"
      ]
     },
     "execution_count": 13,
     "metadata": {},
     "output_type": "execute_result"
    },
    {
     "data": {
      "image/png": "[encoded data removed]",
      "text/plain": [
       "<Figure size 432x288 with 1 Axes>"
      ]
     },
     "metadata": {
      "needs_background": "light"
     },
     "output_type": "display_data"
    }
   ],
   "source": [
    "# 将星PCA降维后，还原图像，以第一张图为例， 嘴巴\n",
    "pca = PCA(n_components=4)\n",
    "x_mouth_pca = pca.fit_transform(X_mouth[0])\n",
    "comp = pca.components_\n",
    "x_mouth_m = X_mouth[0] - X_mouth[0].mean()\n",
    "np.dot(x_mouth_m, np.linalg.pinv(comp))\n",
    "x_mouth0 = np.matmul(x_mouth_pca, comp) + X_mouth[0].mean()\n",
    "plt.imshow(x_mouth0)\n",
    "plt.axis('off')\n",
    "plt.show"
   ]
  },
  {
   "cell_type": "code",
   "execution_count": 14,
   "id": "53c6f7f9-7682-48ad-8991-cf3e2f6360be",
   "metadata": {
    "tags": []
   },
   "outputs": [
    {
     "data": {
      "text/plain": [
       "<function matplotlib.pyplot.show(close=None, block=None)>"
      ]
     },
     "execution_count": 14,
     "metadata": {},
     "output_type": "execute_result"
    },
    {
     "data": {
      "image/png": "[encoded data removed]",
      "text/plain": [
       "<Figure size 432x288 with 1 Axes>"
      ]
     },
     "metadata": {
      "needs_background": "light"
     },
     "output_type": "display_data"
    }
   ],
   "source": [
    "# 未经PCA降维的原图，以第一张图为例，眼睛\n",
    "plt.imshow(X_eyes[0])\n",
    "plt.axis('off')\n",
    "plt.show"
   ]
  },
  {
   "cell_type": "code",
   "execution_count": 15,
   "id": "fef31644-1dd8-470f-a313-3261f5582880",
   "metadata": {
    "tags": []
   },
   "outputs": [
    {
     "data": {
      "text/plain": [
       "<function matplotlib.pyplot.show(close=None, block=None)>"
      ]
     },
     "execution_count": 15,
     "metadata": {},
     "output_type": "execute_result"
    },
    {
     "data": {
      "image/png": "[encoded data removed]",
      "text/plain": [
       "<Figure size 432x288 with 1 Axes>"
      ]
     },
     "metadata": {
      "needs_background": "light"
     },
     "output_type": "display_data"
    }
   ],
   "source": [
    "# 将星PCA降维后，还原图像，以第一张图为例， 眼睛\n",
    "pca = PCA(n_components=12)\n",
    "x_eyes_pca = pca.fit_transform(X_eyes[0])\n",
    "comp = pca.components_\n",
    "x_eyes_m = X_eyes[0] - X_eyes[0].mean()\n",
    "np.dot(x_eyes_m, np.linalg.pinv(comp))\n",
    "x_eyes0 = np.matmul(x_eyes_pca, comp) + X_eyes[0].mean()\n",
    "plt.imshow(x_eyes0)\n",
    "plt.axis('off')\n",
    "plt.show"
   ]
  },
  {
   "cell_type": "code",
   "execution_count": 16,
   "id": "194cb37c-f67b-475b-b88d-c0135cea7e25",
   "metadata": {
    "tags": []
   },
   "outputs": [
    {
     "data": {
      "text/plain": [
       "<function matplotlib.pyplot.show(close=None, block=None)>"
      ]
     },
     "execution_count": 16,
     "metadata": {},
     "output_type": "execute_result"
    },
    {
     "data": {
      "image/png": "[encoded data removed]",
      "text/plain": [
       "<Figure size 432x288 with 1 Axes>"
      ]
     },
     "metadata": {
      "needs_background": "light"
     },
     "output_type": "display_data"
    }
   ],
   "source": [
    "# 未经PCA降维的原图，以第一张图为例，左眼\n",
    "plt.imshow(X_le[0])\n",
    "plt.axis('off')\n",
    "plt.show"
   ]
  },
  {
   "cell_type": "code",
   "execution_count": 17,
   "id": "1b2f39b2-c3f3-4178-b8ae-eafc1aa18bcd",
   "metadata": {
    "tags": []
   },
   "outputs": [
    {
     "data": {
      "text/plain": [
       "<function matplotlib.pyplot.show(close=None, block=None)>"
      ]
     },
     "execution_count": 17,
     "metadata": {},
     "output_type": "execute_result"
    },
    {
     "data": {
      "image/png": "[encoded data removed]",
      "text/plain": [
       "<Figure size 432x288 with 1 Axes>"
      ]
     },
     "metadata": {
      "needs_background": "light"
     },
     "output_type": "display_data"
    }
   ],
   "source": [
    "# 将星PCA降维后，还原图像，以第一张图为例， 左眼\n",
    "pca = PCA(n_components=5)\n",
    "x_le_pca = pca.fit_transform(X_le[0])\n",
    "comp = pca.components_\n",
    "x_le_m = X_le[0] - X_le[0].mean()\n",
    "np.dot(x_le_m, np.linalg.pinv(comp))\n",
    "x_le0 = np.matmul(x_le_pca, comp) + X_le[0].mean()\n",
    "plt.imshow(x_le0)\n",
    "plt.axis('off')\n",
    "plt.show"
   ]
  },
  {
   "cell_type": "code",
   "execution_count": 18,
   "id": "98cb3422-d3fe-4837-9f1d-e5fef9c5673c",
   "metadata": {
    "tags": []
   },
   "outputs": [
    {
     "data": {
      "text/plain": [
       "<function matplotlib.pyplot.show(close=None, block=None)>"
      ]
     },
     "execution_count": 18,
     "metadata": {},
     "output_type": "execute_result"
    },
    {
     "data": {
      "image/png": "[encoded data removed]",
      "text/plain": [
       "<Figure size 432x288 with 1 Axes>"
      ]
     },
     "metadata": {
      "needs_background": "light"
     },
     "output_type": "display_data"
    }
   ],
   "source": [
    "# 未经PCA降维的原图，以第一张图为例，右眼\n",
    "plt.imshow(X_re[0])\n",
    "plt.axis('off')\n",
    "plt.show"
   ]
  },
  {
   "cell_type": "code",
   "execution_count": 19,
   "id": "8f60723b-0d79-43d1-9c28-b2000cfcd524",
   "metadata": {
    "tags": []
   },
   "outputs": [
    {
     "data": {
      "text/plain": [
       "<function matplotlib.pyplot.show(close=None, block=None)>"
      ]
     },
     "execution_count": 19,
     "metadata": {},
     "output_type": "execute_result"
    },
    {
     "data": {
      "image/png": "[encoded data removed]",
      "text/plain": [
       "<Figure size 432x288 with 1 Axes>"
      ]
     },
     "metadata": {
      "needs_background": "light"
     },
     "output_type": "display_data"
    }
   ],
   "source": [
    "# 将星PCA降维后，还原图像，以第一张图为例， 右眼\n",
    "pca = PCA(n_components=1)\n",
    "x_re_pca = pca.fit_transform(X_re[0])\n",
    "comp = pca.components_\n",
    "x_re_m = X_re[0] - X_re[0].mean()\n",
    "np.dot(x_re_m, np.linalg.pinv(comp))\n",
    "x_re0 = np.matmul(x_re_pca, comp) + X_re[0].mean()\n",
    "plt.imshow(x_re0)\n",
    "plt.axis('off')\n",
    "plt.show"
   ]
  },
  {
   "cell_type": "code",
   "execution_count": 20,
   "id": "01119a3b-976e-4bdb-9471-84b0212a0c87",
   "metadata": {
    "tags": []
   },
   "outputs": [
    {
     "data": {
      "text/plain": [
       "<function matplotlib.pyplot.show(close=None, block=None)>"
      ]
     },
     "execution_count": 20,
     "metadata": {},
     "output_type": "execute_result"
    },
    {
     "data": {
      "image/png": "[encoded data removed]",
      "text/plain": [
       "<Figure size 432x288 with 1 Axes>"
      ]
     },
     "metadata": {
      "needs_background": "light"
     },
     "output_type": "display_data"
    }
   ],
   "source": [
    "# 未经PCA降维的原图，以第一张图为例，鼻子\n",
    "plt.imshow(X_nose[0])\n",
    "plt.axis('off')\n",
    "plt.show"
   ]
  },
  {
   "cell_type": "code",
   "execution_count": 21,
   "id": "d887ef6c-4f0a-4f94-9edb-0265f210db08",
   "metadata": {
    "tags": []
   },
   "outputs": [
    {
     "data": {
      "text/plain": [
       "<function matplotlib.pyplot.show(close=None, block=None)>"
      ]
     },
     "execution_count": 21,
     "metadata": {},
     "output_type": "execute_result"
    },
    {
     "data": {
      "image/png": "[encoded data removed]",
      "text/plain": [
       "<Figure size 432x288 with 1 Axes>"
      ]
     },
     "metadata": {
      "needs_background": "light"
     },
     "output_type": "display_data"
    }
   ],
   "source": [
    "# 将星PCA降维后，还原图像，以第一张图为例， 鼻子\n",
    "pca = PCA(n_components=7)\n",
    "x_nose_pca = pca.fit_transform(X_nose[0])\n",
    "comp = pca.components_\n",
    "x_nose_m = X_nose[0] - X_nose[0].mean()\n",
    "np.dot(x_nose_m, np.linalg.pinv(comp))\n",
    "x_nose0 = np.matmul(x_nose_pca, comp) + X_nose[0].mean()\n",
    "plt.imshow(x_nose0)\n",
    "plt.axis('off')\n",
    "plt.show"
   ]
  },
  {
   "cell_type": "code",
   "execution_count": 22,
   "id": "1fe73220-a5d9-421e-98ae-d498240f6bd5",
   "metadata": {
    "tags": []
   },
   "outputs": [
    {
     "data": {
      "text/plain": [
       "<function matplotlib.pyplot.show(close=None, block=None)>"
      ]
     },
     "execution_count": 22,
     "metadata": {},
     "output_type": "execute_result"
    },
    {
     "data": {
      "image/png": "[encoded data removed]",
      "text/plain": [
       "<Figure size 432x288 with 1 Axes>"
      ]
     },
     "metadata": {
      "needs_background": "light"
     },
     "output_type": "display_data"
    }
   ],
   "source": [
    "# 未经PCA降维的原图，以第一张图为例，人脸\n",
    "plt.imshow(X_face[0])\n",
    "plt.axis('off')\n",
    "plt.show"
   ]
  },
  {
   "cell_type": "code",
   "execution_count": 23,
   "id": "c2c1f7cf-8bdc-4c0b-9822-0495e4b28d16",
   "metadata": {
    "tags": []
   },
   "outputs": [
    {
     "data": {
      "text/plain": [
       "<function matplotlib.pyplot.show(close=None, block=None)>"
      ]
     },
     "execution_count": 23,
     "metadata": {},
     "output_type": "execute_result"
    },
    {
     "data": {
      "image/png": "[encoded data removed]",
      "text/plain": [
       "<Figure size 432x288 with 1 Axes>"
      ]
     },
     "metadata": {
      "needs_background": "light"
     },
     "output_type": "display_data"
    }
   ],
   "source": [
    "# 将星PCA降维后，还原图像，以第一张图为例， 人脸\n",
    "pca = PCA(n_components=10)\n",
    "x_face_pca = pca.fit_transform(X_face[0])\n",
    "comp = pca.components_\n",
    "x_face_m = X_face[0] - X_face[0].mean()\n",
    "np.dot(x_face_m, np.linalg.pinv(comp))\n",
    "x_face0 = np.matmul(x_face_pca, comp) + X_face[0].mean()\n",
    "plt.imshow(x_face0)\n",
    "plt.axis('off')\n",
    "plt.show"
   ]
  },
  {
   "cell_type": "code",
   "execution_count": null,
   "id": "34ce45f3-8ece-4d7f-85f3-00b59ba23c22",
   "metadata": {
    "tags": []
   },
   "outputs": [],
   "source": [
    "# Bagging, 嘴巴\n",
    "from sklearn.ensemble import BaggingClassifier\n",
    "\n",
    "gnb = GaussianNB(priors=[0.01, 0.99])\n",
    "\n",
    "clf = BaggingClassifier(gnb, n_estimators=10, max_samples=0.04, max_features=0.42, n_jobs=-1, random_state=42)\n",
    "\n",
    "Y_mouth_pred = cross_val_predict(clf, X_mouth, Y, cv=5)\n",
    "print(\"mouth_score:\", accuracy_score(Y, Y_mouth_pred))\n",
    "\n",
    "# 混淆矩阵\n",
    "Y_mouth_pred = cross_val_predict(clf, X_mouth, Y, cv=5)\n",
    "mouth_cm = confusion_matrix(Y, Y_mouth_pred)\n",
    "print(\"mouth_confusion_matrix:\\n\", mouth_cm)\n",
    "\n",
    "# F1、Percison、Recall、Specifity\n",
    "mouth_f1 = cross_val_score(clf, X_mouth, Y, cv=5, scoring='f1')\n",
    "print(\"mouth_f1: %f\" % mouth_f1.mean())\n",
    "mouth_precision = cross_val_score(clf, X_mouth, Y, cv=5, scoring='precision')\n",
    "print(\"mouth_precision: %f\" % mouth_precision.mean())\n",
    "mouth_recall = cross_val_score(clf, X_mouth, Y, cv=5, scoring='recall')\n",
    "print(\"mouth_recall: %f\" % mouth_recall.mean())\n",
    "mouth_specifity = mouth_cm[1][1]/(mouth_cm[1][1]+mouth_cm[0][1])\n",
    "print(\"mouth_specifity: %f\" % mouth_specifity)\n",
    "\n",
    "# 准确率的平均值和方差\n",
    "mouth_scores = cross_val_score(clf, X_mouth, Y, cv=5)\n",
    "print(\"mouth_scores Accuracy: %0.5f (+/- %0.5f)\" % (mouth_scores.mean(), mouth_scores.std() * 2))\n",
    "\n",
    "#AUC\n",
    "mouth_scores = cross_val_score(clf, X_mouth, Y, cv=5, scoring='roc_auc')\n",
    "print(\"mouth_scores roc_auc: %f\" % mouth_scores.mean())\n",
    "\n",
    "# mouth_score: 0.7264246091780131\n",
    "# mouth_confusion_matrix:\n",
    "#  [[1263  716]\n",
    "#  [ 369 1618]]\n",
    "# mouth_f1: 0.749067\n",
    "# mouth_precision: 0.695415\n",
    "# mouth_recall: 0.814258\n",
    "# mouth_specifity: 0.693231\n",
    "# mouth_scores Accuracy: 0.72641 (+/- 0.08032)\n",
    "# mouth_scores roc_auc: 0.770544\n",
    "\n",
    "# 调参\n",
    "\n",
    "# # 确定max_features\n",
    "# best_score = 0\n",
    "# k = 0.1\n",
    "# best_max_features = 0\n",
    "# for i in range(1,91):\n",
    "#     clf = BaggingClassifier(GaussianNB(priors=[0.02, 0.98]), n_estimators=10, max_samples=0.5, max_features=k, n_jobs=-1, random_state=42)\n",
    "#     k += 0.01\n",
    "#     Y_pred = cross_val_predict(clf, X_mouth, Y, cv=5)\n",
    "#     scores = cross_val_score(clf, X_mouth, Y, cv=5, scoring=\"accuracy\")\n",
    "#     print(\"k=\",k, \"scores=\",scores.mean())\n",
    "#     if scores.mean() > best_score:\n",
    "#         best_score = scores.mean()\n",
    "#         best_max_features = k\n",
    "        \n",
    "# print(\"best_score=\", best_score) #0.7188603126575895\n",
    "# print(\"best_max_features=\", best_max_features) #0.42\n",
    "\n",
    "# # 确定max_samples\n",
    "# best_score = 0\n",
    "# k = 0.01\n",
    "# best_max_samples = 0\n",
    "# for i in range(1,98):\n",
    "#     clf = BaggingClassifier(GaussianNB(priors=[0.01, 0.99]), n_estimators=10, max_samples=k, max_features=0.42, n_jobs=-1, random_state=42)\n",
    "#     k += 0.01\n",
    "#     Y_pred = cross_val_predict(clf, X_mouth, Y, cv=5)\n",
    "#     scores = cross_val_score(clf, X_mouth, Y, cv=5, scoring=\"accuracy\")\n",
    "#     print(\"k=\",k, \"scores=\",scores.mean())\n",
    "#     if scores.mean() > best_score:\n",
    "#         best_score = scores.mean()\n",
    "#         best_max_samples = k\n",
    "        \n",
    "# print(\"best_score=\", best_score) #0.7264246091780131\n",
    "# print(\"best_max_samples=\", best_max_samples) #0.04"
   ]
  },
  {
   "cell_type": "code",
   "execution_count": null,
   "id": "5601ccdb-70b6-4619-a220-581bf86e51c2",
   "metadata": {
    "tags": []
   },
   "outputs": [],
   "source": [
    "# Bagging, 人脸\n",
    "from sklearn.ensemble import BaggingClassifier\n",
    "\n",
    "gnb = GaussianNB(priors=[0.57, 0.43])\n",
    "\n",
    "clf = BaggingClassifier(gnb, n_estimators=10, max_samples=0.26, max_features=0.57, n_jobs=-1, random_state=42)\n",
    "\n",
    "Y_face_pred = cross_val_predict(clf, X_face_pca, Y, cv=5)\n",
    "print(\"mouth_score:\", accuracy_score(Y, Y_face_pred))\n",
    "\n",
    "# 混淆矩阵\n",
    "Y_face_pred = cross_val_predict(clf, X_face_pca, Y, cv=5)\n",
    "face_pca_cm = confusion_matrix(Y, Y_face_pred)\n",
    "print(\"face_pca_confusion_matrix:\\n\", face_pca_cm)\n",
    "\n",
    "# F1、Percison、Recall、Specifity\n",
    "face_pca_f1 = cross_val_score(clf, X_face_pca, Y, cv=5, scoring='f1')\n",
    "print(\"face_pca_f1: %f\" % face_pca_f1.mean())\n",
    "face_pca_precision = cross_val_score(clf, X_face_pca, Y, cv=5, scoring='precision')\n",
    "print(\"face_pca_precision: %f\" % face_pca_precision.mean())\n",
    "face_pca_recall = cross_val_score(clf, X_face_pca, Y, cv=5, scoring='recall')\n",
    "print(\"face_pca_recall: %f\" % face_pca_recall.mean())\n",
    "face_pca_specifity = face_pca_cm[1][1]/(face_pca_cm[1][1]+face_pca_cm[0][1])\n",
    "print(\"face_pca_specifity: %f\" % face_pca_specifity)\n",
    "\n",
    "# 准确率的平均值和方差\n",
    "face_pca_scores = cross_val_score(clf, X_face_pca, Y, cv=5)\n",
    "print(\"face_pca_scores Accuracy: %0.5f (+/- %0.5f)\" % (face_pca_scores.mean(), face_pca_scores.std() * 2))\n",
    "\n",
    "# AUC\n",
    "face_scores = cross_val_score(clf, X_face_pca, Y, cv=5, scoring='roc_auc')\n",
    "print(\"face_pca_scores roc_auc: %f\" % face_pca_scores.mean())\n",
    "\n",
    "# mouth_score: 0.6464952092788704\n",
    "# face_pca_confusion_matrix:\n",
    "#  [[1257  722]\n",
    "#  [ 709 1278]]\n",
    "# face_pca_f1: 0.638362\n",
    "# face_pca_precision: 0.641298\n",
    "# face_pca_recall: 0.643108\n",
    "# face_pca_specifity: 0.639000\n",
    "# face_pca_scores Accuracy: 0.63917 (+/- 0.11914)\n",
    "# face_pca_scores roc_auc: 0.639167\n",
    "\n",
    "# 调参\n",
    "# # 确定max_features\n",
    "# best_score = 0\n",
    "# k = 0.1\n",
    "# best_max_features = 0\n",
    "# for i in range(1,91):\n",
    "#     clf = BaggingClassifier(GaussianNB(priors=[0.57, 0.43]), n_estimators=10, max_samples=0.5, max_features=k, n_jobs=-1, random_state=42)\n",
    "#     k += 0.01\n",
    "#     scores = cross_val_score(clf, X_face_pca, Y, cv=5, scoring=\"accuracy\")\n",
    "#     print(\"k=\",k, \"scores=\",scores.mean())\n",
    "#     if scores.mean() > best_score:\n",
    "#         best_score = scores.mean()\n",
    "#         best_max_features = k\n",
    "        \n",
    "# print(\"best_score=\", best_score) #0.6422087745839636\n",
    "# print(\"best_max_features=\", best_max_features) #0.57\n",
    "\n",
    "# # 确定max_samples\n",
    "# best_score = 0\n",
    "# k = 0.01\n",
    "# best_max_samples = 0\n",
    "# for i in range(1,98):\n",
    "#     clf = BaggingClassifier(GaussianNB(priors=[0.57, 0.43]), n_estimators=10, max_samples=k, max_features=0.57, n_jobs=-1, random_state=42)\n",
    "#     k += 0.01\n",
    "#     scores = cross_val_score(clf, X_face_pca, Y, cv=5, scoring=\"accuracy\")\n",
    "#     print(\"k=\",k, \"scores=\",scores.mean())\n",
    "#     if scores.mean() > best_score:\n",
    "#         best_score = scores.mean()\n",
    "#         best_max_samples = k\n",
    "        \n",
    "# print(\"best_score=\", best_score) #0.6464952092788704\n",
    "# print(\"best_max_samples=\", best_max_samples) #0.26"
   ]
  },
  {
   "cell_type": "code",
   "execution_count": null,
   "id": "6eb1d55f-b671-4a56-a54c-aaceba5d9f57",
   "metadata": {
    "tags": []
   },
   "outputs": [],
   "source": [
    "# Boosting, 嘴巴\n",
    "from sklearn.ensemble import AdaBoostClassifier\n",
    "\n",
    "gnb = GaussianNB(priors=[0.01, 0.99])\n",
    "\n",
    "clf = AdaBoostClassifier(base_estimator=gnb, n_estimators=10, learning_rate=0.41, random_state=42, algorithm='SAMME')\n",
    "\n",
    "Y_mouth_pred = cross_val_predict(clf, X_mouth, Y, cv=5)\n",
    "print(\"mouth_score:\", accuracy_score(Y, Y_mouth_pred))\n",
    "\n",
    "# 混淆矩阵\n",
    "Y_mouth_pred = cross_val_predict(clf, X_mouth, Y, cv=5)\n",
    "mouth_cm = confusion_matrix(Y, Y_mouth_pred)\n",
    "print(\"mouth_pca_confusion_matrix:\\n\", mouth_cm)\n",
    "\n",
    "# F1、Percison、Recall、Specifity\n",
    "mouth_f1 = cross_val_score(clf, X_mouth, Y, cv=5, scoring='f1')\n",
    "print(\"mouth_f1: %f\" % mouth_f1.mean())\n",
    "mouth_precision = cross_val_score(clf, X_mouth, Y, cv=5, scoring='precision')\n",
    "print(\"mouth_precision: %f\" % mouth_precision.mean())\n",
    "mouth_recall = cross_val_score(clf, X_mouth, Y, cv=5, scoring='recall')\n",
    "print(\"mouth_recall: %f\" % mouth_recall.mean())\n",
    "mouth_specifity = mouth_cm[1][1]/(mouth_cm[1][1]+mouth_cm[0][1])\n",
    "print(\"mouth_specifity: %f\" % mouth_specifity)\n",
    "\n",
    "# 准确率的平均值和方差\n",
    "mouth_scores = cross_val_score(clf, X_mouth, Y, cv=5)\n",
    "print(\"mouth_scores Accuracy: %0.5f (+/- %0.5f)\" % (mouth_scores.mean(), mouth_scores.std() * 2))\n",
    "\n",
    "#AUC\n",
    "mouth_scores = cross_val_score(clf, X_mouth, Y, cv=5, scoring='roc_auc')\n",
    "print(\"mouth_scores roc_auc: %f\" % mouth_scores.mean())\n",
    "\n",
    "# mouth_score: 0.7655068078668684\n",
    "# mouth_pca_confusion_matrix:\n",
    "#  [[1291  688]\n",
    "#  [ 242 1745]]\n",
    "# mouth_f1: 0.790338\n",
    "# mouth_precision: 0.722326\n",
    "# mouth_recall: 0.878172\n",
    "# mouth_specifity: 0.717222\n",
    "# mouth_scores Accuracy: 0.76548 (+/- 0.09554)\n",
    "# mouth_scores roc_auc: 0.809923\n",
    "\n",
    "\n",
    "# 调参\n",
    "# best_score = 0\n",
    "# k = 0.1\n",
    "\n",
    "# # 确定learning_rate\n",
    "# best_learning_rate = 0\n",
    "# for i in range(1,90):\n",
    "#     clf = AdaBoostClassifier(base_estimator=GaussianNB(priors=[0.01, 0.99]), n_estimators=10, learning_rate=k, random_state=42, algorithm='SAMME')\n",
    "#     k += 0.01\n",
    "#     scores = cross_val_score(clf, X_mouth, Y, cv=5, scoring=\"accuracy\")\n",
    "#     print(\"k=\",k, \"scores=\",scores.mean())\n",
    "#     if scores.mean() > best_score:\n",
    "#         best_score = scores.mean()\n",
    "#         best_learning_rate = k\n",
    "        \n",
    "# print(\"best_score=\", best_score) #0.7655068078668684\n",
    "# print(\"best_learning_rate=\", best_learning_rate) #0.41"
   ]
  },
  {
   "cell_type": "code",
   "execution_count": null,
   "id": "86364848-e25f-47c4-bc58-8d00764f23cc",
   "metadata": {
    "tags": []
   },
   "outputs": [],
   "source": [
    "# Boosting, 人脸\n",
    "from sklearn.ensemble import AdaBoostClassifier\n",
    "\n",
    "gnb = GaussianNB(priors=[0.57, 0.43])\n",
    "\n",
    "clf = AdaBoostClassifier(base_estimator=gnb, n_estimators=10, learning_rate=0.28, random_state=42, algorithm='SAMME')\n",
    "\n",
    "Y_face_pred = cross_val_predict(clf, X_face_pca, Y, cv=5)\n",
    "print(\"face_pca_score:\", accuracy_score(Y, Y_face_pred))\n",
    "\n",
    "# 混淆矩阵\n",
    "Y_face_pred = cross_val_predict(clf, X_face_pca, Y, cv=5)\n",
    "face_pca_cm = confusion_matrix(Y, Y_face_pred)\n",
    "print(\"face_pca_confusion_matrix:\\n\", face_pca_cm)\n",
    "\n",
    "# F1、Percison、Recall、Specifity\n",
    "face_pca_f1 = cross_val_score(clf, X_face_pca, Y, cv=5, scoring='f1')\n",
    "print(\"face_pca_f1: %f\" % face_pca_f1.mean())\n",
    "face_pca_precision = cross_val_score(clf, X_face_pca, Y, cv=5, scoring='precision')\n",
    "print(\"face_pca_precision: %f\" % face_pca_precision.mean())\n",
    "face_pca_recall = cross_val_score(clf, X_face_pca, Y, cv=5, scoring='recall')\n",
    "print(\"face_pca_recall: %f\" % face_pca_recall.mean())\n",
    "face_pca_specifity = face_pca_cm[1][1]/(face_pca_cm[1][1]+face_pca_cm[0][1])\n",
    "print(\"face_pca_specifity: %f\" % face_pca_specifity)\n",
    "\n",
    "# 准确率的平均值和方差\n",
    "face_pca_scores = cross_val_score(clf, X_face_pca, Y, cv=5, scoring='accuracy')\n",
    "print(\"face_pca_scores Accuracy: %0.5f (+/- %0.5f)\" % (face_pca_scores.mean(), face_pca_scores.std() * 2))\n",
    "\n",
    "# AUC\n",
    "face_scores = cross_val_score(clf, X_face_pca, Y, cv=5, scoring='roc_auc')\n",
    "print(\"face_pca_scores roc_auc: %f\" % face_pca_scores.mean())\n",
    "\n",
    "# face_pca_score: 0.7138174483106404\n",
    "# face_pca_confusion_matrix:\n",
    "#  [[1406  573]\n",
    "#  [ 562 1425]]\n",
    "# face_pca_f1: 0.715133\n",
    "# face_pca_precision: 0.716133\n",
    "# face_pca_recall: 0.717145\n",
    "# face_pca_specifity: 0.713213\n",
    "# face_pca_scores Accuracy: 0.71381 (+/- 0.05649)\n",
    "# face_pca_scores roc_auc: 0.713808\n",
    "\n",
    "\n",
    "# 调参\n",
    "# best_score = 0\n",
    "# k = 0.01\n",
    "\n",
    "# # 确定learning_rate\n",
    "# best_learning_rate = 0\n",
    "# for i in range(1,98):\n",
    "#     clf = AdaBoostClassifier(base_estimator=GaussianNB(priors=[0.57, 0.43]), n_estimators=10, learning_rate=k, random_state=42, algorithm='SAMME')\n",
    "#     k += 0.01\n",
    "#     scores = cross_val_score(clf, X_face_pca, Y, cv=5, scoring=\"accuracy\")\n",
    "#     print(\"k=\",k, \"scores=\",scores.mean())\n",
    "#     if scores.mean() > best_score:\n",
    "#         best_score = scores.mean()\n",
    "#         best_learning_rate = k\n",
    "        \n",
    "# print(\"best_score=\", best_score) #0.7138174483106404\n",
    "# print(\"best_learning_rate=\", best_learning_rate) #0.28"
   ]
  },
  {
   "cell_type": "code",
   "execution_count": null,
   "id": "2add7c28-cb42-46f5-9607-39f67b4bba2a",
   "metadata": {},
   "outputs": [],
   "source": []
  }
 ],
 "metadata": {
  "kernelspec": {
   "display_name": "Python 3 (ipykernel)",
   "language": "python",
   "name": "python3"
  },
  "language_info": {
   "codemirror_mode": {
    "name": "ipython",
    "version": 3
   },
   "file_extension": ".py",
   "mimetype": "text/x-python",
   "name": "python",
   "nbconvert_exporter": "python",
   "pygments_lexer": "ipython3",
   "version": "3.9.7"
  }
 },
 "nbformat": 4,
 "nbformat_minor": 5
}
